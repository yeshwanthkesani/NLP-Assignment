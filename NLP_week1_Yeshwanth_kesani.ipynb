{
  "nbformat": 4,
  "nbformat_minor": 0,
  "metadata": {
    "kernelspec": {
      "display_name": "Python 3",
      "language": "python",
      "name": "python3"
    },
    "language_info": {
      "codemirror_mode": {
        "name": "ipython",
        "version": 3
      },
      "file_extension": ".py",
      "mimetype": "text/x-python",
      "name": "python",
      "nbconvert_exporter": "python",
      "pygments_lexer": "ipython3",
      "version": "3.7.6"
    },
    "colab": {
      "provenance": [],
      "include_colab_link": true
    }
  },
  "cells": [
    {
      "cell_type": "markdown",
      "metadata": {
        "id": "view-in-github",
        "colab_type": "text"
      },
      "source": [
        "<a href=\"https://colab.research.google.com/github/yeshwanthkesani/NLP-Assignment/blob/main/NLP_week1_Yeshwanth_kesani.ipynb\" target=\"_parent\"><img src=\"https://colab.research.google.com/assets/colab-badge.svg\" alt=\"Open In Colab\"/></a>"
      ]
    },
    {
      "cell_type": "markdown",
      "metadata": {
        "id": "URHO-Uji2koG"
      },
      "source": [
        "# M1 Assignment: Text Processing and Edit Distance\n",
        "\n",
        "In this section we will be exploring how to preprocess tweets . We will provide a function for preprocessing tweets during this week's assignment, but it is still good to know what is going on under the hood. By the end of this assignment, you will see how to use the [NLTK](http://www.nltk.org) package to perform a preprocessing pipeline for Twitter datasets."
      ]
    },
    {
      "cell_type": "markdown",
      "metadata": {
        "id": "cVg-26AV2koP"
      },
      "source": [
        "## Setup\n",
        "Eventually, you will conduct a sentiment analysis on Tweets. To help with that, we will be using the Natural Language Toolkit (NLTK) package, an open-source Python library for natural language processing. In this library you will use the NLTK to assist with processing the tweet to clean it for interpretation.\n",
        "\n",
        "In Part 1.1, you will extract a set of Elon Musk tweets. Next in Part 1.2, you will process the tweets using the various processing tasks outlined in the section and Chapter 2 of Jurafsky and Martin. Finally, in Part 1.3, you will create a simple version of a Levensthein distance formula to run the edit distance between two matrices.\n",
        "\n",
        "As part of completing the assignment, you will see that there are areas in the note book for you to complete your own coding input.\n",
        "\n",
        "It will be look like following:\n",
        "```\n",
        "### START CODE HERE (REPLACE INSTANCES OF 'None' with your code) ###\n",
        "'Some coding activity for you to complete'\n",
        "### END CODE HERE ###\n",
        "\n",
        "```"
      ]
    },
    {
      "cell_type": "markdown",
      "source": [
        "Additionally, you will be using custom media and libraries created and stored for your in your Colab environment.\n"
      ],
      "metadata": {
        "id": "MYLzCpw62fYi"
      }
    },
    {
      "cell_type": "markdown",
      "metadata": {
        "id": "td35EC362koR"
      },
      "source": [
        "## Part 1.1: Using tweetsts\n",
        "\n",
        "---\n",
        "\n"
      ]
    },
    {
      "cell_type": "markdown",
      "metadata": {
        "id": "hzNDoS1P2koY"
      },
      "source": [
        "### Extracting tweets\n",
        "In this next section, we're going to import Elon Musk's tweets and prepare them to preprocess. Use the following code to connect to the M1 Assignment Repo and download it to your Google Colab Account\n",
        "\n"
      ]
    },
    {
      "cell_type": "code",
      "source": [
        "#install this if you do not have this already installed\n",
        "!pip install gitpython\n",
        "\n",
        "import git\n",
        "import sys\n",
        "\n",
        "\n",
        "# Clone the GitHub repository\n",
        "repo_url = 'https://github.com/Natural-Language-Processing-YU/Module-1-Assignment.git'\n",
        "repo_dir = '/content/m1_repo'  # Specify the directory to clone the repository\n",
        "git.Repo.clone_from(repo_url, repo_dir)\n",
        "# Add the cloned repository directory to the import path\n",
        "\n"
      ],
      "metadata": {
        "colab": {
          "base_uri": "https://localhost:8080/"
        },
        "id": "6WNrUiAYxglN",
        "outputId": "e32c59a5-b420-42f1-f080-66111375dbaa"
      },
      "execution_count": 1,
      "outputs": [
        {
          "output_type": "stream",
          "name": "stdout",
          "text": [
            "Collecting gitpython\n",
            "  Downloading GitPython-3.1.41-py3-none-any.whl (196 kB)\n",
            "\u001b[2K     \u001b[90m━━━━━━━━━━━━━━━━━━━━━━━━━━━━━━━━━━━━━━━━\u001b[0m \u001b[32m196.4/196.4 kB\u001b[0m \u001b[31m2.4 MB/s\u001b[0m eta \u001b[36m0:00:00\u001b[0m\n",
            "\u001b[?25hCollecting gitdb<5,>=4.0.1 (from gitpython)\n",
            "  Downloading gitdb-4.0.11-py3-none-any.whl (62 kB)\n",
            "\u001b[2K     \u001b[90m━━━━━━━━━━━━━━━━━━━━━━━━━━━━━━━━━━━━━━━━\u001b[0m \u001b[32m62.7/62.7 kB\u001b[0m \u001b[31m4.0 MB/s\u001b[0m eta \u001b[36m0:00:00\u001b[0m\n",
            "\u001b[?25hCollecting smmap<6,>=3.0.1 (from gitdb<5,>=4.0.1->gitpython)\n",
            "  Downloading smmap-5.0.1-py3-none-any.whl (24 kB)\n",
            "Installing collected packages: smmap, gitdb, gitpython\n",
            "Successfully installed gitdb-4.0.11 gitpython-3.1.41 smmap-5.0.1\n"
          ]
        },
        {
          "output_type": "execute_result",
          "data": {
            "text/plain": [
              "<git.repo.base.Repo '/content/m1_repo/.git'>"
            ]
          },
          "metadata": {},
          "execution_count": 1
        }
      ]
    },
    {
      "cell_type": "markdown",
      "source": [
        "Use the pandas library to create a dataframe with the csv file full owf twees."
      ],
      "metadata": {
        "id": "Md_LSWJUud-U"
      }
    },
    {
      "cell_type": "code",
      "metadata": {
        "id": "W308paKm2kob",
        "outputId": "769c79e0-0844-4666-c0e5-3f8785bfe461",
        "colab": {
          "base_uri": "https://localhost:8080/"
        }
      },
      "source": [
        "#extract the tweets\n",
        "import pandas as pd\n",
        "\n",
        "tweets = pd.read_csv('/content/m1_repo/data/elonmusk_tweets.csv') #import file\n",
        "print(tweets.dtypes) #print data types\n",
        "print(tweets.text) #show tweets from file\n",
        "df = pd.DataFrame(tweets)\n"
      ],
      "execution_count": 2,
      "outputs": [
        {
          "output_type": "stream",
          "name": "stdout",
          "text": [
            "id             int64\n",
            "created_at    object\n",
            "text          object\n",
            "dtype: object\n",
            "0       b'And so the robots spared humanity ... https:...\n",
            "1       b\"@ForIn2020 @waltmossberg @mims @defcon_5 Exa...\n",
            "2           b'@waltmossberg @mims @defcon_5 Et tu, Walt?'\n",
            "3                     b'Stormy weather in Shortville ...'\n",
            "4       b\"@DaveLeeBBC @verge Coal is dying due to nat ...\n",
            "                              ...                        \n",
            "2814                 b'That was a total non sequitur btw'\n",
            "2815    b'Great Voltaire quote, arguably better than T...\n",
            "2816    b'I made the volume on the Model S http://t.co...\n",
            "2817    b\"Went to Iceland on Sat to ride bumper cars o...\n",
            "2818    b'Please ignore prior tweets, as that was some...\n",
            "Name: text, Length: 2819, dtype: object\n"
          ]
        }
      ]
    },
    {
      "cell_type": "code",
      "source": [
        "df.head(5)"
      ],
      "metadata": {
        "colab": {
          "base_uri": "https://localhost:8080/",
          "height": 206
        },
        "id": "6wZzCzjo4Uw7",
        "outputId": "4aa28a6a-75cd-4d76-d79f-022920aaf98a"
      },
      "execution_count": 3,
      "outputs": [
        {
          "output_type": "execute_result",
          "data": {
            "text/plain": [
              "                   id           created_at  \\\n",
              "0  849636868052275200  2017-04-05 14:56:29   \n",
              "1  848988730585096192  2017-04-03 20:01:01   \n",
              "2  848943072423497728  2017-04-03 16:59:35   \n",
              "3  848935705057280001  2017-04-03 16:30:19   \n",
              "4  848416049573658624  2017-04-02 06:05:23   \n",
              "\n",
              "                                                text  \n",
              "0  b'And so the robots spared humanity ... https:...  \n",
              "1  b\"@ForIn2020 @waltmossberg @mims @defcon_5 Exa...  \n",
              "2      b'@waltmossberg @mims @defcon_5 Et tu, Walt?'  \n",
              "3                b'Stormy weather in Shortville ...'  \n",
              "4  b\"@DaveLeeBBC @verge Coal is dying due to nat ...  "
            ],
            "text/html": [
              "\n",
              "  <div id=\"df-9242212b-9e25-4d4e-9097-af890d0ef235\" class=\"colab-df-container\">\n",
              "    <div>\n",
              "<style scoped>\n",
              "    .dataframe tbody tr th:only-of-type {\n",
              "        vertical-align: middle;\n",
              "    }\n",
              "\n",
              "    .dataframe tbody tr th {\n",
              "        vertical-align: top;\n",
              "    }\n",
              "\n",
              "    .dataframe thead th {\n",
              "        text-align: right;\n",
              "    }\n",
              "</style>\n",
              "<table border=\"1\" class=\"dataframe\">\n",
              "  <thead>\n",
              "    <tr style=\"text-align: right;\">\n",
              "      <th></th>\n",
              "      <th>id</th>\n",
              "      <th>created_at</th>\n",
              "      <th>text</th>\n",
              "    </tr>\n",
              "  </thead>\n",
              "  <tbody>\n",
              "    <tr>\n",
              "      <th>0</th>\n",
              "      <td>849636868052275200</td>\n",
              "      <td>2017-04-05 14:56:29</td>\n",
              "      <td>b'And so the robots spared humanity ... https:...</td>\n",
              "    </tr>\n",
              "    <tr>\n",
              "      <th>1</th>\n",
              "      <td>848988730585096192</td>\n",
              "      <td>2017-04-03 20:01:01</td>\n",
              "      <td>b\"@ForIn2020 @waltmossberg @mims @defcon_5 Exa...</td>\n",
              "    </tr>\n",
              "    <tr>\n",
              "      <th>2</th>\n",
              "      <td>848943072423497728</td>\n",
              "      <td>2017-04-03 16:59:35</td>\n",
              "      <td>b'@waltmossberg @mims @defcon_5 Et tu, Walt?'</td>\n",
              "    </tr>\n",
              "    <tr>\n",
              "      <th>3</th>\n",
              "      <td>848935705057280001</td>\n",
              "      <td>2017-04-03 16:30:19</td>\n",
              "      <td>b'Stormy weather in Shortville ...'</td>\n",
              "    </tr>\n",
              "    <tr>\n",
              "      <th>4</th>\n",
              "      <td>848416049573658624</td>\n",
              "      <td>2017-04-02 06:05:23</td>\n",
              "      <td>b\"@DaveLeeBBC @verge Coal is dying due to nat ...</td>\n",
              "    </tr>\n",
              "  </tbody>\n",
              "</table>\n",
              "</div>\n",
              "    <div class=\"colab-df-buttons\">\n",
              "\n",
              "  <div class=\"colab-df-container\">\n",
              "    <button class=\"colab-df-convert\" onclick=\"convertToInteractive('df-9242212b-9e25-4d4e-9097-af890d0ef235')\"\n",
              "            title=\"Convert this dataframe to an interactive table.\"\n",
              "            style=\"display:none;\">\n",
              "\n",
              "  <svg xmlns=\"http://www.w3.org/2000/svg\" height=\"24px\" viewBox=\"0 -960 960 960\">\n",
              "    <path d=\"M120-120v-720h720v720H120Zm60-500h600v-160H180v160Zm220 220h160v-160H400v160Zm0 220h160v-160H400v160ZM180-400h160v-160H180v160Zm440 0h160v-160H620v160ZM180-180h160v-160H180v160Zm440 0h160v-160H620v160Z\"/>\n",
              "  </svg>\n",
              "    </button>\n",
              "\n",
              "  <style>\n",
              "    .colab-df-container {\n",
              "      display:flex;\n",
              "      gap: 12px;\n",
              "    }\n",
              "\n",
              "    .colab-df-convert {\n",
              "      background-color: #E8F0FE;\n",
              "      border: none;\n",
              "      border-radius: 50%;\n",
              "      cursor: pointer;\n",
              "      display: none;\n",
              "      fill: #1967D2;\n",
              "      height: 32px;\n",
              "      padding: 0 0 0 0;\n",
              "      width: 32px;\n",
              "    }\n",
              "\n",
              "    .colab-df-convert:hover {\n",
              "      background-color: #E2EBFA;\n",
              "      box-shadow: 0px 1px 2px rgba(60, 64, 67, 0.3), 0px 1px 3px 1px rgba(60, 64, 67, 0.15);\n",
              "      fill: #174EA6;\n",
              "    }\n",
              "\n",
              "    .colab-df-buttons div {\n",
              "      margin-bottom: 4px;\n",
              "    }\n",
              "\n",
              "    [theme=dark] .colab-df-convert {\n",
              "      background-color: #3B4455;\n",
              "      fill: #D2E3FC;\n",
              "    }\n",
              "\n",
              "    [theme=dark] .colab-df-convert:hover {\n",
              "      background-color: #434B5C;\n",
              "      box-shadow: 0px 1px 3px 1px rgba(0, 0, 0, 0.15);\n",
              "      filter: drop-shadow(0px 1px 2px rgba(0, 0, 0, 0.3));\n",
              "      fill: #FFFFFF;\n",
              "    }\n",
              "  </style>\n",
              "\n",
              "    <script>\n",
              "      const buttonEl =\n",
              "        document.querySelector('#df-9242212b-9e25-4d4e-9097-af890d0ef235 button.colab-df-convert');\n",
              "      buttonEl.style.display =\n",
              "        google.colab.kernel.accessAllowed ? 'block' : 'none';\n",
              "\n",
              "      async function convertToInteractive(key) {\n",
              "        const element = document.querySelector('#df-9242212b-9e25-4d4e-9097-af890d0ef235');\n",
              "        const dataTable =\n",
              "          await google.colab.kernel.invokeFunction('convertToInteractive',\n",
              "                                                    [key], {});\n",
              "        if (!dataTable) return;\n",
              "\n",
              "        const docLinkHtml = 'Like what you see? Visit the ' +\n",
              "          '<a target=\"_blank\" href=https://colab.research.google.com/notebooks/data_table.ipynb>data table notebook</a>'\n",
              "          + ' to learn more about interactive tables.';\n",
              "        element.innerHTML = '';\n",
              "        dataTable['output_type'] = 'display_data';\n",
              "        await google.colab.output.renderOutput(dataTable, element);\n",
              "        const docLink = document.createElement('div');\n",
              "        docLink.innerHTML = docLinkHtml;\n",
              "        element.appendChild(docLink);\n",
              "      }\n",
              "    </script>\n",
              "  </div>\n",
              "\n",
              "\n",
              "<div id=\"df-c0a7fa8b-738c-4195-bc0e-ad6fe5df76d8\">\n",
              "  <button class=\"colab-df-quickchart\" onclick=\"quickchart('df-c0a7fa8b-738c-4195-bc0e-ad6fe5df76d8')\"\n",
              "            title=\"Suggest charts\"\n",
              "            style=\"display:none;\">\n",
              "\n",
              "<svg xmlns=\"http://www.w3.org/2000/svg\" height=\"24px\"viewBox=\"0 0 24 24\"\n",
              "     width=\"24px\">\n",
              "    <g>\n",
              "        <path d=\"M19 3H5c-1.1 0-2 .9-2 2v14c0 1.1.9 2 2 2h14c1.1 0 2-.9 2-2V5c0-1.1-.9-2-2-2zM9 17H7v-7h2v7zm4 0h-2V7h2v10zm4 0h-2v-4h2v4z\"/>\n",
              "    </g>\n",
              "</svg>\n",
              "  </button>\n",
              "\n",
              "<style>\n",
              "  .colab-df-quickchart {\n",
              "      --bg-color: #E8F0FE;\n",
              "      --fill-color: #1967D2;\n",
              "      --hover-bg-color: #E2EBFA;\n",
              "      --hover-fill-color: #174EA6;\n",
              "      --disabled-fill-color: #AAA;\n",
              "      --disabled-bg-color: #DDD;\n",
              "  }\n",
              "\n",
              "  [theme=dark] .colab-df-quickchart {\n",
              "      --bg-color: #3B4455;\n",
              "      --fill-color: #D2E3FC;\n",
              "      --hover-bg-color: #434B5C;\n",
              "      --hover-fill-color: #FFFFFF;\n",
              "      --disabled-bg-color: #3B4455;\n",
              "      --disabled-fill-color: #666;\n",
              "  }\n",
              "\n",
              "  .colab-df-quickchart {\n",
              "    background-color: var(--bg-color);\n",
              "    border: none;\n",
              "    border-radius: 50%;\n",
              "    cursor: pointer;\n",
              "    display: none;\n",
              "    fill: var(--fill-color);\n",
              "    height: 32px;\n",
              "    padding: 0;\n",
              "    width: 32px;\n",
              "  }\n",
              "\n",
              "  .colab-df-quickchart:hover {\n",
              "    background-color: var(--hover-bg-color);\n",
              "    box-shadow: 0 1px 2px rgba(60, 64, 67, 0.3), 0 1px 3px 1px rgba(60, 64, 67, 0.15);\n",
              "    fill: var(--button-hover-fill-color);\n",
              "  }\n",
              "\n",
              "  .colab-df-quickchart-complete:disabled,\n",
              "  .colab-df-quickchart-complete:disabled:hover {\n",
              "    background-color: var(--disabled-bg-color);\n",
              "    fill: var(--disabled-fill-color);\n",
              "    box-shadow: none;\n",
              "  }\n",
              "\n",
              "  .colab-df-spinner {\n",
              "    border: 2px solid var(--fill-color);\n",
              "    border-color: transparent;\n",
              "    border-bottom-color: var(--fill-color);\n",
              "    animation:\n",
              "      spin 1s steps(1) infinite;\n",
              "  }\n",
              "\n",
              "  @keyframes spin {\n",
              "    0% {\n",
              "      border-color: transparent;\n",
              "      border-bottom-color: var(--fill-color);\n",
              "      border-left-color: var(--fill-color);\n",
              "    }\n",
              "    20% {\n",
              "      border-color: transparent;\n",
              "      border-left-color: var(--fill-color);\n",
              "      border-top-color: var(--fill-color);\n",
              "    }\n",
              "    30% {\n",
              "      border-color: transparent;\n",
              "      border-left-color: var(--fill-color);\n",
              "      border-top-color: var(--fill-color);\n",
              "      border-right-color: var(--fill-color);\n",
              "    }\n",
              "    40% {\n",
              "      border-color: transparent;\n",
              "      border-right-color: var(--fill-color);\n",
              "      border-top-color: var(--fill-color);\n",
              "    }\n",
              "    60% {\n",
              "      border-color: transparent;\n",
              "      border-right-color: var(--fill-color);\n",
              "    }\n",
              "    80% {\n",
              "      border-color: transparent;\n",
              "      border-right-color: var(--fill-color);\n",
              "      border-bottom-color: var(--fill-color);\n",
              "    }\n",
              "    90% {\n",
              "      border-color: transparent;\n",
              "      border-bottom-color: var(--fill-color);\n",
              "    }\n",
              "  }\n",
              "</style>\n",
              "\n",
              "  <script>\n",
              "    async function quickchart(key) {\n",
              "      const quickchartButtonEl =\n",
              "        document.querySelector('#' + key + ' button');\n",
              "      quickchartButtonEl.disabled = true;  // To prevent multiple clicks.\n",
              "      quickchartButtonEl.classList.add('colab-df-spinner');\n",
              "      try {\n",
              "        const charts = await google.colab.kernel.invokeFunction(\n",
              "            'suggestCharts', [key], {});\n",
              "      } catch (error) {\n",
              "        console.error('Error during call to suggestCharts:', error);\n",
              "      }\n",
              "      quickchartButtonEl.classList.remove('colab-df-spinner');\n",
              "      quickchartButtonEl.classList.add('colab-df-quickchart-complete');\n",
              "    }\n",
              "    (() => {\n",
              "      let quickchartButtonEl =\n",
              "        document.querySelector('#df-c0a7fa8b-738c-4195-bc0e-ad6fe5df76d8 button');\n",
              "      quickchartButtonEl.style.display =\n",
              "        google.colab.kernel.accessAllowed ? 'block' : 'none';\n",
              "    })();\n",
              "  </script>\n",
              "</div>\n",
              "\n",
              "    </div>\n",
              "  </div>\n"
            ]
          },
          "metadata": {},
          "execution_count": 3
        }
      ]
    },
    {
      "cell_type": "markdown",
      "metadata": {
        "id": "S2kk1YB-2koa"
      },
      "source": [
        "## Part 1.2: Preprocessing the text from tweets\n",
        "Text processing is one of the critical steps in an NLP project and in data scenience and analytics. It includes cleaning and formatting the data before feeding an algorithm. For NLP, the preprocessing steps are comprised of the following tasks:\n",
        "\n",
        "1. Tokenizing the string\n",
        "2. Lowercasing\n",
        "3. Removing stop words and punctuation\n",
        "4. Stemming\n",
        "\n",
        "We will take this approach with a selected tweet that we returned from above see how this is transformed by each preprocessing step.\n",
        "\n",
        "Let's take one of the tweets and apply preprocessing steps"
      ]
    },
    {
      "cell_type": "markdown",
      "source": [
        "Let's take a look at one tweet from our dataframe:"
      ],
      "metadata": {
        "id": "fry6Eqa9ryXa"
      }
    },
    {
      "cell_type": "code",
      "source": [
        "print('\\033[92m' + df['text'][2816])"
      ],
      "metadata": {
        "colab": {
          "base_uri": "https://localhost:8080/"
        },
        "id": "vl2W0slVr2RS",
        "outputId": "f04bc30c-52e0-42d9-86d2-1f161e222aa1"
      },
      "execution_count": 4,
      "outputs": [
        {
          "output_type": "stream",
          "name": "stdout",
          "text": [
            "\u001b[92mb'I made the volume on the Model S http://t.co/wMCnT53M go to 11.  Now I just need to work in a miniature Stonehenge...'\n"
          ]
        }
      ]
    },
    {
      "cell_type": "code",
      "source": [
        "p = df['text'][2816]\n",
        "remove_hp = r\"http\\S+\""
      ],
      "metadata": {
        "id": "RLghRAHC5T34"
      },
      "execution_count": 5,
      "outputs": []
    },
    {
      "cell_type": "markdown",
      "source": [
        "# **Here we can see the way to remove hyperlink**"
      ],
      "metadata": {
        "id": "nQpQNEpQ6ZO1"
      }
    },
    {
      "cell_type": "code",
      "source": [
        "import re\n",
        "x = re.sub(remove_hp,'',p)\n",
        "print(x)"
      ],
      "metadata": {
        "colab": {
          "base_uri": "https://localhost:8080/"
        },
        "id": "KX8dnGKS58TL",
        "outputId": "b14f13d2-3a10-4270-e2a6-4dabda18de92"
      },
      "execution_count": 6,
      "outputs": [
        {
          "output_type": "stream",
          "name": "stdout",
          "text": [
            "b'I made the volume on the Model S  go to 11.  Now I just need to work in a miniature Stonehenge...'\n"
          ]
        }
      ]
    },
    {
      "cell_type": "markdown",
      "source": [
        "#**bold text now here we can see '#' in the text. so removing it.**"
      ],
      "metadata": {
        "id": "3W5pCLfp91jx"
      }
    },
    {
      "cell_type": "code",
      "source": [
        "r = df['id'] == 845172927892897792\n",
        "print(df[r]['text'])"
      ],
      "metadata": {
        "colab": {
          "base_uri": "https://localhost:8080/"
        },
        "id": "v6K0jB-Y64wQ",
        "outputId": "06fd008f-1a09-457c-8528-c1e2c8251aa0"
      },
      "execution_count": 7,
      "outputs": [
        {
          "output_type": "stream",
          "name": "stdout",
          "text": [
            "97    b'Where are the #%*&gt; aliens? https://t.co/F...\n",
            "Name: text, dtype: object\n"
          ]
        }
      ]
    },
    {
      "cell_type": "code",
      "source": [
        "df['text'][97]"
      ],
      "metadata": {
        "colab": {
          "base_uri": "https://localhost:8080/",
          "height": 35
        },
        "id": "gmy1bTRd-cbw",
        "outputId": "dde03f1e-1eb2-4427-9931-d34d1caede57"
      },
      "execution_count": 8,
      "outputs": [
        {
          "output_type": "execute_result",
          "data": {
            "text/plain": [
              "\"b'Where are the #%*&gt; aliens? https://t.co/FDuJIdwgrN'\""
            ],
            "application/vnd.google.colaboratory.intrinsic+json": {
              "type": "string"
            }
          },
          "metadata": {},
          "execution_count": 8
        }
      ]
    },
    {
      "cell_type": "code",
      "source": [
        "p = df['text'][97]\n",
        "remove_hash = r'#\\S+'\n",
        "x = re.sub(remove_hash,'',p)\n",
        "print(x)"
      ],
      "metadata": {
        "colab": {
          "base_uri": "https://localhost:8080/"
        },
        "id": "zJOChCSc-TJN",
        "outputId": "b208a5ab-fdc3-463a-c353-8035286fe1a0"
      },
      "execution_count": 9,
      "outputs": [
        {
          "output_type": "stream",
          "name": "stdout",
          "text": [
            "b'Where are the  aliens? https://t.co/FDuJIdwgrN'\n"
          ]
        }
      ]
    },
    {
      "cell_type": "markdown",
      "metadata": {
        "id": "E2Ii7mmr2kod"
      },
      "source": [
        "### Remove hyperlinks, hashtags, and beginngin of strings\n",
        "Using this tweet, let's clean it up to remove unncessary information. First, we will use regex to remove hyperlinks. You will create the regex substring to remove hyperlinks, hashtabs and the start of a tweet line.  "
      ]
    },
    {
      "cell_type": "code",
      "metadata": {
        "id": "sQljVSFM2kod",
        "outputId": "3512f012-5a2b-46a5-fd7b-b7afcf8f9f36",
        "colab": {
          "base_uri": "https://localhost:8080/"
        }
      },
      "source": [
        "### START CODE HERE (REPLACE INSTANCES OF 'None' with your code) ###\n",
        "#create regex for hyperlinks\n",
        "regex_remove_hyperlinks = r\"http\\S+\"\n",
        "df['text'][2816] = re.sub(regex_remove_hyperlinks, '', df['text'][2816])\n",
        "\n",
        "# remove hashtags\n",
        "# only removing the hash # sign from the word\n",
        "regex_hash = r'#\\S+'\n",
        "df['text'][2816] = re.sub(regex_hash, '', df['text'][2816])\n",
        "\n",
        "\n",
        "# remove 'b from each string\n",
        "regex_string_beginning = r\"^b['\\\"]\"\n",
        "df['text'][2816] = re.sub(regex_string_beginning, '', df['text'][2816])\n",
        "\n",
        "### END CODE HERE ###\n",
        "\n",
        "\n",
        "# Print the modified tweet\n",
        "print('\\033[92m' + df['text'][2816])\n",
        "\n"
      ],
      "execution_count": 10,
      "outputs": [
        {
          "output_type": "stream",
          "name": "stdout",
          "text": [
            "\u001b[92mI made the volume on the Model S  go to 11.  Now I just need to work in a miniature Stonehenge...'\n"
          ]
        },
        {
          "output_type": "stream",
          "name": "stderr",
          "text": [
            "<ipython-input-10-4d8c99a55ccb>:4: SettingWithCopyWarning: \n",
            "A value is trying to be set on a copy of a slice from a DataFrame\n",
            "\n",
            "See the caveats in the documentation: https://pandas.pydata.org/pandas-docs/stable/user_guide/indexing.html#returning-a-view-versus-a-copy\n",
            "  df['text'][2816] = re.sub(regex_remove_hyperlinks, '', df['text'][2816])\n",
            "<ipython-input-10-4d8c99a55ccb>:9: SettingWithCopyWarning: \n",
            "A value is trying to be set on a copy of a slice from a DataFrame\n",
            "\n",
            "See the caveats in the documentation: https://pandas.pydata.org/pandas-docs/stable/user_guide/indexing.html#returning-a-view-versus-a-copy\n",
            "  df['text'][2816] = re.sub(regex_hash, '', df['text'][2816])\n",
            "<ipython-input-10-4d8c99a55ccb>:14: SettingWithCopyWarning: \n",
            "A value is trying to be set on a copy of a slice from a DataFrame\n",
            "\n",
            "See the caveats in the documentation: https://pandas.pydata.org/pandas-docs/stable/user_guide/indexing.html#returning-a-view-versus-a-copy\n",
            "  df['text'][2816] = re.sub(regex_string_beginning, '', df['text'][2816])\n"
          ]
        }
      ]
    },
    {
      "cell_type": "markdown",
      "source": [
        "#Using NLTK Libraries\n",
        "\n",
        "Now let's use the NLTK libraries to remove stopwords, tokenize, and stem the words.\n",
        "\n",
        "The Porter stemming algorithm, also known as the Porter stemmer, is a widely used algorithm for stemming words in natural language processing (NLP). It is named after its creator, Martin Porter. The goal of stemming is to reduce words to their base or root form, which helps to normalize variations of a word and reduce the vocabulary size."
      ],
      "metadata": {
        "id": "8X5-erZasQzI"
      }
    },
    {
      "cell_type": "code",
      "metadata": {
        "id": "8ZoSOGaW2koc"
      },
      "source": [
        "import nltk                                # Python library for NLP\n",
        "import re                                  # library for regular expression operations\n",
        "import string                              # for string operations\n",
        "\n",
        "from nltk.corpus import stopwords          # module for stop words that come with NLTK\n",
        "from nltk.stem import PorterStemmer        # module for stemming\n",
        "from nltk.tokenize import TweetTokenizer   # module for tokenizing strings"
      ],
      "execution_count": 11,
      "outputs": []
    },
    {
      "cell_type": "code",
      "metadata": {
        "id": "xgaZcBmu2koc",
        "outputId": "08b4eca7-a825-4a95-d424-616dc5006716",
        "colab": {
          "base_uri": "https://localhost:8080/"
        }
      },
      "source": [
        "# download the stopwords from NLTK\n",
        "nltk.download('stopwords')"
      ],
      "execution_count": 12,
      "outputs": [
        {
          "output_type": "stream",
          "name": "stderr",
          "text": [
            "[nltk_data] Downloading package stopwords to /root/nltk_data...\n",
            "[nltk_data]   Unzipping corpora/stopwords.zip.\n"
          ]
        },
        {
          "output_type": "execute_result",
          "data": {
            "text/plain": [
              "True"
            ]
          },
          "metadata": {},
          "execution_count": 12
        }
      ]
    },
    {
      "cell_type": "markdown",
      "metadata": {
        "id": "tMBLZmjp2koe"
      },
      "source": [
        "### Tokenize the string\n",
        "\n",
        "To tokenize means to split the strings into individual words without blanks or tabs. In this same step, we will also convert each word in the string to lower case. The [tokenize](https://www.nltk.org/api/nltk.tokenize.html#module-nltk.tokenize.casual) module from NLTK allows us to do these easily:"
      ]
    },
    {
      "cell_type": "code",
      "metadata": {
        "id": "QD2ub7Dl2koe",
        "colab": {
          "base_uri": "https://localhost:8080/"
        },
        "outputId": "66cff8be-8401-42a6-dcc3-87d49aabaf48"
      },
      "source": [
        "# instantiate tokenizer class\n",
        "tokenizer = TweetTokenizer(preserve_case=False, strip_handles=True,\n",
        "                               reduce_len=True)\n",
        "\n",
        "# tokenize tweets\n",
        "tokenized_tweet = tokenizer.tokenize(str(df['text'][2816]))\n",
        "\n",
        "\n",
        "print(tokenized_tweet)"
      ],
      "execution_count": 13,
      "outputs": [
        {
          "output_type": "stream",
          "name": "stdout",
          "text": [
            "['i', 'made', 'the', 'volume', 'on', 'the', 'model', 's', 'go', 'to', '11', '.', 'now', 'i', 'just', 'need', 'to', 'work', 'in', 'a', 'miniature', 'stonehenge', '...', \"'\"]\n"
          ]
        }
      ]
    },
    {
      "cell_type": "markdown",
      "metadata": {
        "id": "rv8jxMlK2kof"
      },
      "source": [
        "### Remove stop words and punctuations\n",
        "\n",
        "The next step is to remove stop words and miscelleneous punctuations. Stop words are words that do not have semantic meaning to the tweet. There is a library of stopwords built into NLTK. The list provided by NLTK when you run the cells below."
      ]
    },
    {
      "cell_type": "code",
      "metadata": {
        "id": "weMOqHRp2kof",
        "outputId": "222bf708-6f3b-4b0e-d1d9-ff518a833c7f",
        "colab": {
          "base_uri": "https://localhost:8080/"
        }
      },
      "source": [
        "#Import the english stop words list from NLTK\n",
        "stopwords_english = stopwords.words('english')\n",
        "\n",
        "print('Stop words\\n')\n",
        "print(stopwords_english)\n",
        "\n",
        "print('\\nPunctuation\\n')\n",
        "print(string.punctuation)"
      ],
      "execution_count": 14,
      "outputs": [
        {
          "output_type": "stream",
          "name": "stdout",
          "text": [
            "Stop words\n",
            "\n",
            "['i', 'me', 'my', 'myself', 'we', 'our', 'ours', 'ourselves', 'you', \"you're\", \"you've\", \"you'll\", \"you'd\", 'your', 'yours', 'yourself', 'yourselves', 'he', 'him', 'his', 'himself', 'she', \"she's\", 'her', 'hers', 'herself', 'it', \"it's\", 'its', 'itself', 'they', 'them', 'their', 'theirs', 'themselves', 'what', 'which', 'who', 'whom', 'this', 'that', \"that'll\", 'these', 'those', 'am', 'is', 'are', 'was', 'were', 'be', 'been', 'being', 'have', 'has', 'had', 'having', 'do', 'does', 'did', 'doing', 'a', 'an', 'the', 'and', 'but', 'if', 'or', 'because', 'as', 'until', 'while', 'of', 'at', 'by', 'for', 'with', 'about', 'against', 'between', 'into', 'through', 'during', 'before', 'after', 'above', 'below', 'to', 'from', 'up', 'down', 'in', 'out', 'on', 'off', 'over', 'under', 'again', 'further', 'then', 'once', 'here', 'there', 'when', 'where', 'why', 'how', 'all', 'any', 'both', 'each', 'few', 'more', 'most', 'other', 'some', 'such', 'no', 'nor', 'not', 'only', 'own', 'same', 'so', 'than', 'too', 'very', 's', 't', 'can', 'will', 'just', 'don', \"don't\", 'should', \"should've\", 'now', 'd', 'll', 'm', 'o', 're', 've', 'y', 'ain', 'aren', \"aren't\", 'couldn', \"couldn't\", 'didn', \"didn't\", 'doesn', \"doesn't\", 'hadn', \"hadn't\", 'hasn', \"hasn't\", 'haven', \"haven't\", 'isn', \"isn't\", 'ma', 'mightn', \"mightn't\", 'mustn', \"mustn't\", 'needn', \"needn't\", 'shan', \"shan't\", 'shouldn', \"shouldn't\", 'wasn', \"wasn't\", 'weren', \"weren't\", 'won', \"won't\", 'wouldn', \"wouldn't\"]\n",
            "\n",
            "Punctuation\n",
            "\n",
            "!\"#$%&'()*+,-./:;<=>?@[\\]^_`{|}~\n"
          ]
        }
      ]
    },
    {
      "cell_type": "markdown",
      "metadata": {
        "id": "23rvPhYz2kof"
      },
      "source": [
        "We can see that the stop words list above contains some words that could be important in some contexts.\n",
        "These could be words like _i, not, between, because, won, against_. In some cases, you may want to update this dictionary of stop words to suit your needs.\n",
        "\n",
        "Certain groupings like ':)' and '...'  should be retained when dealing with tweets because they are used to express emotions, but in some cases they should be removed.\n"
      ]
    },
    {
      "cell_type": "code",
      "metadata": {
        "id": "5Jnynu5K2kog",
        "outputId": "f13e3b66-39c6-4719-dcf9-edd0dbff7584",
        "colab": {
          "base_uri": "https://localhost:8080/"
        }
      },
      "source": [
        "df2=df\n",
        "tweets_clean = []\n",
        "\n",
        "for word in tokenized_tweet: # Go through every word in your tokens list\n",
        "    if (word not in stopwords_english and  # remove stopwords\n",
        "        word not in string.punctuation):  # remove punctuation\n",
        "        tweets_clean.append(word)\n",
        "\n",
        "print('removed stop words and punctuation:')\n",
        "print(tweets_clean)"
      ],
      "execution_count": 15,
      "outputs": [
        {
          "output_type": "stream",
          "name": "stdout",
          "text": [
            "removed stop words and punctuation:\n",
            "['made', 'volume', 'model', 'go', '11', 'need', 'work', 'miniature', 'stonehenge', '...']\n"
          ]
        }
      ]
    },
    {
      "cell_type": "markdown",
      "source": [
        "Next, we use porter stemmer to stem words.\n",
        "\n",
        "            stem_word = stemmer.stem(word)  # stemming word\n",
        "            tweets_clean.append(stem_word)"
      ],
      "metadata": {
        "id": "Wse80ZKUrASY"
      }
    },
    {
      "cell_type": "code",
      "source": [],
      "metadata": {
        "id": "GlgILsHfA4h3"
      },
      "execution_count": 15,
      "outputs": []
    },
    {
      "cell_type": "code",
      "source": [
        "import nltk\n",
        "from nltk.stem import PorterStemmer\n",
        "\n",
        "stemmer = PorterStemmer()\n",
        "for word in tokenized_tweet:\n",
        "    stem_word = stemmer.stem(word)\n",
        "    tweets_clean.append(stem_word)\n",
        "print(tweets_clean)"
      ],
      "metadata": {
        "id": "Nwq8pacZrLXg",
        "colab": {
          "base_uri": "https://localhost:8080/"
        },
        "outputId": "eed18942-957f-409f-b650-16db8272ca34"
      },
      "execution_count": 16,
      "outputs": [
        {
          "output_type": "stream",
          "name": "stdout",
          "text": [
            "['made', 'volume', 'model', 'go', '11', 'need', 'work', 'miniature', 'stonehenge', '...', 'i', 'made', 'the', 'volum', 'on', 'the', 'model', 's', 'go', 'to', '11', '.', 'now', 'i', 'just', 'need', 'to', 'work', 'in', 'a', 'miniatur', 'stoneheng', '...', \"'\"]\n"
          ]
        }
      ]
    },
    {
      "cell_type": "markdown",
      "metadata": {
        "id": "9quRejfi2kog"
      },
      "source": [
        "## preprocess_tweet()\n",
        "\n",
        "As shown above, preprocessing consists of multiple steps before you arrive at the final list of words.  In the week's assignment, write a function called `preprocess_tweet()`.\n",
        "\n",
        "Then, use this to iterate through the dataframe and preprocess each tweet into a new column.\n",
        "\n",
        "Print your results.\n"
      ]
    },
    {
      "cell_type": "code",
      "metadata": {
        "id": "frUPXf542koh"
      },
      "source": [
        "### START CODE HERE (REPLACE INSTANCES OF 'None' with your code) ###\n",
        "\n",
        "# def preprocess_tweet(tweet):\n",
        "#     \"\"\"Process tweet function.\n",
        "#     Input:\n",
        "#         tweet: a string containing a tweet\n",
        "#     Output:\n",
        "#         tweets_clean: a list of words containing the processed tweet\n",
        "\n",
        "#     \"\"\"\n",
        "#     None\n",
        "#     return tweets_clean\n",
        "def clean_text(text):\n",
        "    # Remove URLs\n",
        "    text = re.sub(r\"https?://\\S+|www\\.\\S+\", '', text)\n",
        "\n",
        "    # Remove hashtags\n",
        "    text = re.sub(r'#\\S+|@\\S+', '', text)\n",
        "\n",
        "    # Remove mentions\n",
        "    text = re.sub(r\"^b['\\\"]|[/'\\\"]$\", '', text)\n",
        "    decoded_text = text.encode('latin1').decode('unicode_escape').replace('\\\\\\\\', '\\\\').encode('latin-1').decode('utf-8')\n",
        "    tokens = tokenizer.tokenize(decoded_text)\n",
        "\n",
        "    #cleaned_tokens = [token.lower() for token in tokens if token.lower() not in stop_words and token not in string.punctuation]\n",
        "    cleaned_tokens = [stemmer.stem(token.lower()) for token in tokens if token.lower() not in stopwords_english  and token not in string.punctuation]\n",
        "\n",
        "    return cleaned_tokens\n",
        "df1 = df['text'].apply(clean_text)\n",
        "df1 = pd.DataFrame({'preprocessed_tweet': df1})\n",
        "\n",
        "\n",
        "### END CODE HERE ###"
      ],
      "execution_count": 17,
      "outputs": []
    },
    {
      "cell_type": "code",
      "source": [
        "pd.set_option('display.colheader_justify', 'left')\n",
        "pd.set_option('display.max_colwidth', None)\n",
        "df1"
      ],
      "metadata": {
        "colab": {
          "base_uri": "https://localhost:8080/",
          "height": 424
        },
        "id": "64TtILIsMtUU",
        "outputId": "7bf492c2-fb79-4867-c60d-ebbf349de14e"
      },
      "execution_count": 18,
      "outputs": [
        {
          "output_type": "execute_result",
          "data": {
            "text/plain": [
              "     preprocessed_tweet                                                                                        \n",
              "0                                                                                    [robot, spare, human, ...]\n",
              "1                                               [exactli, tesla, absurdli, overvalu, base, past, that', irr, …]\n",
              "2                                                                                                [et, tu, walt]\n",
              "3                                                                              [stormi, weather, shortvil, ...]\n",
              "4                                                                 [coal, die, due, nat, ga, frack, basic, dead]\n",
              "...                                                                                                         ...\n",
              "2814                                                                                [total, non, sequitur, btw]\n",
              "2815  [great, voltair, quot, arguabl, better, twain, hear, news, death, voltair, repli, report, true, prematur]\n",
              "2816                                         [made, volum, model, go, 11, need, work, miniatur, stoneheng, ...]\n",
              "2817      [went, iceland, sat, ride, bumper, car, ice, countri, vlad', rink, van, nuy, awesom, famili, fun, :)]\n",
              "2818                                                  [pleas, ignor, prior, tweet, someon, pretend, :), actual]\n",
              "\n",
              "[2819 rows x 1 columns]"
            ],
            "text/html": [
              "\n",
              "  <div id=\"df-250b572f-842f-4462-8322-d08ae62caec5\" class=\"colab-df-container\">\n",
              "    <div>\n",
              "<style scoped>\n",
              "    .dataframe tbody tr th:only-of-type {\n",
              "        vertical-align: middle;\n",
              "    }\n",
              "\n",
              "    .dataframe tbody tr th {\n",
              "        vertical-align: top;\n",
              "    }\n",
              "\n",
              "    .dataframe thead th {\n",
              "        text-align: right;\n",
              "    }\n",
              "</style>\n",
              "<table border=\"1\" class=\"dataframe\">\n",
              "  <thead>\n",
              "    <tr style=\"text-align: left;\">\n",
              "      <th></th>\n",
              "      <th>preprocessed_tweet</th>\n",
              "    </tr>\n",
              "  </thead>\n",
              "  <tbody>\n",
              "    <tr>\n",
              "      <th>0</th>\n",
              "      <td>[robot, spare, human, ...]</td>\n",
              "    </tr>\n",
              "    <tr>\n",
              "      <th>1</th>\n",
              "      <td>[exactli, tesla, absurdli, overvalu, base, past, that', irr, …]</td>\n",
              "    </tr>\n",
              "    <tr>\n",
              "      <th>2</th>\n",
              "      <td>[et, tu, walt]</td>\n",
              "    </tr>\n",
              "    <tr>\n",
              "      <th>3</th>\n",
              "      <td>[stormi, weather, shortvil, ...]</td>\n",
              "    </tr>\n",
              "    <tr>\n",
              "      <th>4</th>\n",
              "      <td>[coal, die, due, nat, ga, frack, basic, dead]</td>\n",
              "    </tr>\n",
              "    <tr>\n",
              "      <th>...</th>\n",
              "      <td>...</td>\n",
              "    </tr>\n",
              "    <tr>\n",
              "      <th>2814</th>\n",
              "      <td>[total, non, sequitur, btw]</td>\n",
              "    </tr>\n",
              "    <tr>\n",
              "      <th>2815</th>\n",
              "      <td>[great, voltair, quot, arguabl, better, twain, hear, news, death, voltair, repli, report, true, prematur]</td>\n",
              "    </tr>\n",
              "    <tr>\n",
              "      <th>2816</th>\n",
              "      <td>[made, volum, model, go, 11, need, work, miniatur, stoneheng, ...]</td>\n",
              "    </tr>\n",
              "    <tr>\n",
              "      <th>2817</th>\n",
              "      <td>[went, iceland, sat, ride, bumper, car, ice, countri, vlad', rink, van, nuy, awesom, famili, fun, :)]</td>\n",
              "    </tr>\n",
              "    <tr>\n",
              "      <th>2818</th>\n",
              "      <td>[pleas, ignor, prior, tweet, someon, pretend, :), actual]</td>\n",
              "    </tr>\n",
              "  </tbody>\n",
              "</table>\n",
              "<p>2819 rows × 1 columns</p>\n",
              "</div>\n",
              "    <div class=\"colab-df-buttons\">\n",
              "\n",
              "  <div class=\"colab-df-container\">\n",
              "    <button class=\"colab-df-convert\" onclick=\"convertToInteractive('df-250b572f-842f-4462-8322-d08ae62caec5')\"\n",
              "            title=\"Convert this dataframe to an interactive table.\"\n",
              "            style=\"display:none;\">\n",
              "\n",
              "  <svg xmlns=\"http://www.w3.org/2000/svg\" height=\"24px\" viewBox=\"0 -960 960 960\">\n",
              "    <path d=\"M120-120v-720h720v720H120Zm60-500h600v-160H180v160Zm220 220h160v-160H400v160Zm0 220h160v-160H400v160ZM180-400h160v-160H180v160Zm440 0h160v-160H620v160ZM180-180h160v-160H180v160Zm440 0h160v-160H620v160Z\"/>\n",
              "  </svg>\n",
              "    </button>\n",
              "\n",
              "  <style>\n",
              "    .colab-df-container {\n",
              "      display:flex;\n",
              "      gap: 12px;\n",
              "    }\n",
              "\n",
              "    .colab-df-convert {\n",
              "      background-color: #E8F0FE;\n",
              "      border: none;\n",
              "      border-radius: 50%;\n",
              "      cursor: pointer;\n",
              "      display: none;\n",
              "      fill: #1967D2;\n",
              "      height: 32px;\n",
              "      padding: 0 0 0 0;\n",
              "      width: 32px;\n",
              "    }\n",
              "\n",
              "    .colab-df-convert:hover {\n",
              "      background-color: #E2EBFA;\n",
              "      box-shadow: 0px 1px 2px rgba(60, 64, 67, 0.3), 0px 1px 3px 1px rgba(60, 64, 67, 0.15);\n",
              "      fill: #174EA6;\n",
              "    }\n",
              "\n",
              "    .colab-df-buttons div {\n",
              "      margin-bottom: 4px;\n",
              "    }\n",
              "\n",
              "    [theme=dark] .colab-df-convert {\n",
              "      background-color: #3B4455;\n",
              "      fill: #D2E3FC;\n",
              "    }\n",
              "\n",
              "    [theme=dark] .colab-df-convert:hover {\n",
              "      background-color: #434B5C;\n",
              "      box-shadow: 0px 1px 3px 1px rgba(0, 0, 0, 0.15);\n",
              "      filter: drop-shadow(0px 1px 2px rgba(0, 0, 0, 0.3));\n",
              "      fill: #FFFFFF;\n",
              "    }\n",
              "  </style>\n",
              "\n",
              "    <script>\n",
              "      const buttonEl =\n",
              "        document.querySelector('#df-250b572f-842f-4462-8322-d08ae62caec5 button.colab-df-convert');\n",
              "      buttonEl.style.display =\n",
              "        google.colab.kernel.accessAllowed ? 'block' : 'none';\n",
              "\n",
              "      async function convertToInteractive(key) {\n",
              "        const element = document.querySelector('#df-250b572f-842f-4462-8322-d08ae62caec5');\n",
              "        const dataTable =\n",
              "          await google.colab.kernel.invokeFunction('convertToInteractive',\n",
              "                                                    [key], {});\n",
              "        if (!dataTable) return;\n",
              "\n",
              "        const docLinkHtml = 'Like what you see? Visit the ' +\n",
              "          '<a target=\"_blank\" href=https://colab.research.google.com/notebooks/data_table.ipynb>data table notebook</a>'\n",
              "          + ' to learn more about interactive tables.';\n",
              "        element.innerHTML = '';\n",
              "        dataTable['output_type'] = 'display_data';\n",
              "        await google.colab.output.renderOutput(dataTable, element);\n",
              "        const docLink = document.createElement('div');\n",
              "        docLink.innerHTML = docLinkHtml;\n",
              "        element.appendChild(docLink);\n",
              "      }\n",
              "    </script>\n",
              "  </div>\n",
              "\n",
              "\n",
              "<div id=\"df-5e0fb84f-74bd-4e36-8ab5-271bacd5e841\">\n",
              "  <button class=\"colab-df-quickchart\" onclick=\"quickchart('df-5e0fb84f-74bd-4e36-8ab5-271bacd5e841')\"\n",
              "            title=\"Suggest charts\"\n",
              "            style=\"display:none;\">\n",
              "\n",
              "<svg xmlns=\"http://www.w3.org/2000/svg\" height=\"24px\"viewBox=\"0 0 24 24\"\n",
              "     width=\"24px\">\n",
              "    <g>\n",
              "        <path d=\"M19 3H5c-1.1 0-2 .9-2 2v14c0 1.1.9 2 2 2h14c1.1 0 2-.9 2-2V5c0-1.1-.9-2-2-2zM9 17H7v-7h2v7zm4 0h-2V7h2v10zm4 0h-2v-4h2v4z\"/>\n",
              "    </g>\n",
              "</svg>\n",
              "  </button>\n",
              "\n",
              "<style>\n",
              "  .colab-df-quickchart {\n",
              "      --bg-color: #E8F0FE;\n",
              "      --fill-color: #1967D2;\n",
              "      --hover-bg-color: #E2EBFA;\n",
              "      --hover-fill-color: #174EA6;\n",
              "      --disabled-fill-color: #AAA;\n",
              "      --disabled-bg-color: #DDD;\n",
              "  }\n",
              "\n",
              "  [theme=dark] .colab-df-quickchart {\n",
              "      --bg-color: #3B4455;\n",
              "      --fill-color: #D2E3FC;\n",
              "      --hover-bg-color: #434B5C;\n",
              "      --hover-fill-color: #FFFFFF;\n",
              "      --disabled-bg-color: #3B4455;\n",
              "      --disabled-fill-color: #666;\n",
              "  }\n",
              "\n",
              "  .colab-df-quickchart {\n",
              "    background-color: var(--bg-color);\n",
              "    border: none;\n",
              "    border-radius: 50%;\n",
              "    cursor: pointer;\n",
              "    display: none;\n",
              "    fill: var(--fill-color);\n",
              "    height: 32px;\n",
              "    padding: 0;\n",
              "    width: 32px;\n",
              "  }\n",
              "\n",
              "  .colab-df-quickchart:hover {\n",
              "    background-color: var(--hover-bg-color);\n",
              "    box-shadow: 0 1px 2px rgba(60, 64, 67, 0.3), 0 1px 3px 1px rgba(60, 64, 67, 0.15);\n",
              "    fill: var(--button-hover-fill-color);\n",
              "  }\n",
              "\n",
              "  .colab-df-quickchart-complete:disabled,\n",
              "  .colab-df-quickchart-complete:disabled:hover {\n",
              "    background-color: var(--disabled-bg-color);\n",
              "    fill: var(--disabled-fill-color);\n",
              "    box-shadow: none;\n",
              "  }\n",
              "\n",
              "  .colab-df-spinner {\n",
              "    border: 2px solid var(--fill-color);\n",
              "    border-color: transparent;\n",
              "    border-bottom-color: var(--fill-color);\n",
              "    animation:\n",
              "      spin 1s steps(1) infinite;\n",
              "  }\n",
              "\n",
              "  @keyframes spin {\n",
              "    0% {\n",
              "      border-color: transparent;\n",
              "      border-bottom-color: var(--fill-color);\n",
              "      border-left-color: var(--fill-color);\n",
              "    }\n",
              "    20% {\n",
              "      border-color: transparent;\n",
              "      border-left-color: var(--fill-color);\n",
              "      border-top-color: var(--fill-color);\n",
              "    }\n",
              "    30% {\n",
              "      border-color: transparent;\n",
              "      border-left-color: var(--fill-color);\n",
              "      border-top-color: var(--fill-color);\n",
              "      border-right-color: var(--fill-color);\n",
              "    }\n",
              "    40% {\n",
              "      border-color: transparent;\n",
              "      border-right-color: var(--fill-color);\n",
              "      border-top-color: var(--fill-color);\n",
              "    }\n",
              "    60% {\n",
              "      border-color: transparent;\n",
              "      border-right-color: var(--fill-color);\n",
              "    }\n",
              "    80% {\n",
              "      border-color: transparent;\n",
              "      border-right-color: var(--fill-color);\n",
              "      border-bottom-color: var(--fill-color);\n",
              "    }\n",
              "    90% {\n",
              "      border-color: transparent;\n",
              "      border-bottom-color: var(--fill-color);\n",
              "    }\n",
              "  }\n",
              "</style>\n",
              "\n",
              "  <script>\n",
              "    async function quickchart(key) {\n",
              "      const quickchartButtonEl =\n",
              "        document.querySelector('#' + key + ' button');\n",
              "      quickchartButtonEl.disabled = true;  // To prevent multiple clicks.\n",
              "      quickchartButtonEl.classList.add('colab-df-spinner');\n",
              "      try {\n",
              "        const charts = await google.colab.kernel.invokeFunction(\n",
              "            'suggestCharts', [key], {});\n",
              "      } catch (error) {\n",
              "        console.error('Error during call to suggestCharts:', error);\n",
              "      }\n",
              "      quickchartButtonEl.classList.remove('colab-df-spinner');\n",
              "      quickchartButtonEl.classList.add('colab-df-quickchart-complete');\n",
              "    }\n",
              "    (() => {\n",
              "      let quickchartButtonEl =\n",
              "        document.querySelector('#df-5e0fb84f-74bd-4e36-8ab5-271bacd5e841 button');\n",
              "      quickchartButtonEl.style.display =\n",
              "        google.colab.kernel.accessAllowed ? 'block' : 'none';\n",
              "    })();\n",
              "  </script>\n",
              "</div>\n",
              "\n",
              "  <div id=\"id_83d6d6bd-65dc-4220-839a-b3deb7816f4e\">\n",
              "    <style>\n",
              "      .colab-df-generate {\n",
              "        background-color: #E8F0FE;\n",
              "        border: none;\n",
              "        border-radius: 50%;\n",
              "        cursor: pointer;\n",
              "        display: none;\n",
              "        fill: #1967D2;\n",
              "        height: 32px;\n",
              "        padding: 0 0 0 0;\n",
              "        width: 32px;\n",
              "      }\n",
              "\n",
              "      .colab-df-generate:hover {\n",
              "        background-color: #E2EBFA;\n",
              "        box-shadow: 0px 1px 2px rgba(60, 64, 67, 0.3), 0px 1px 3px 1px rgba(60, 64, 67, 0.15);\n",
              "        fill: #174EA6;\n",
              "      }\n",
              "\n",
              "      [theme=dark] .colab-df-generate {\n",
              "        background-color: #3B4455;\n",
              "        fill: #D2E3FC;\n",
              "      }\n",
              "\n",
              "      [theme=dark] .colab-df-generate:hover {\n",
              "        background-color: #434B5C;\n",
              "        box-shadow: 0px 1px 3px 1px rgba(0, 0, 0, 0.15);\n",
              "        filter: drop-shadow(0px 1px 2px rgba(0, 0, 0, 0.3));\n",
              "        fill: #FFFFFF;\n",
              "      }\n",
              "    </style>\n",
              "    <button class=\"colab-df-generate\" onclick=\"generateWithVariable('df1')\"\n",
              "            title=\"Generate code using this dataframe.\"\n",
              "            style=\"display:none;\">\n",
              "\n",
              "  <svg xmlns=\"http://www.w3.org/2000/svg\" height=\"24px\"viewBox=\"0 0 24 24\"\n",
              "       width=\"24px\">\n",
              "    <path d=\"M7,19H8.4L18.45,9,17,7.55,7,17.6ZM5,21V16.75L18.45,3.32a2,2,0,0,1,2.83,0l1.4,1.43a1.91,1.91,0,0,1,.58,1.4,1.91,1.91,0,0,1-.58,1.4L9.25,21ZM18.45,9,17,7.55Zm-12,3A5.31,5.31,0,0,0,4.9,8.1,5.31,5.31,0,0,0,1,6.5,5.31,5.31,0,0,0,4.9,4.9,5.31,5.31,0,0,0,6.5,1,5.31,5.31,0,0,0,8.1,4.9,5.31,5.31,0,0,0,12,6.5,5.46,5.46,0,0,0,6.5,12Z\"/>\n",
              "  </svg>\n",
              "    </button>\n",
              "    <script>\n",
              "      (() => {\n",
              "      const buttonEl =\n",
              "        document.querySelector('#id_83d6d6bd-65dc-4220-839a-b3deb7816f4e button.colab-df-generate');\n",
              "      buttonEl.style.display =\n",
              "        google.colab.kernel.accessAllowed ? 'block' : 'none';\n",
              "\n",
              "      buttonEl.onclick = () => {\n",
              "        google.colab.notebook.generateWithVariable('df1');\n",
              "      }\n",
              "      })();\n",
              "    </script>\n",
              "  </div>\n",
              "\n",
              "    </div>\n",
              "  </div>\n"
            ]
          },
          "metadata": {},
          "execution_count": 18
        }
      ]
    },
    {
      "cell_type": "code",
      "metadata": {
        "id": "YjioQEB12koh",
        "outputId": "ac95ad8a-b0fd-4d71-a061-4e1af3f9a396",
        "colab": {
          "base_uri": "https://localhost:8080/",
          "height": 615
        }
      },
      "source": [
        "### START CODE HERE (REPLACE INSTANCES OF 'None' with your code) ###\n",
        "\"\"\"\n",
        "Use the function to iterate through the original dataframe 'df' and preprocess each tweet into a new column \"preprocessed_tweets\". Pseudocode below.\n",
        "\n",
        "for i in len(df):\n",
        "  df[\"preprocessed_tweet\"][i] = preprocess_tweet(df[\"text\"][i])\n",
        "\n",
        "\n",
        "\"\"\"\n",
        "df['preprocessed_tweet'] = df1['preprocessed_tweet']\n",
        "\n",
        "df\n",
        "### END CODE HERE ###\n",
        "\n",
        "display(df)"
      ],
      "execution_count": 19,
      "outputs": [
        {
          "output_type": "display_data",
          "data": {
            "text/plain": [
              "      id                 created_at            \\\n",
              "0     849636868052275200  2017-04-05 14:56:29   \n",
              "1     848988730585096192  2017-04-03 20:01:01   \n",
              "2     848943072423497728  2017-04-03 16:59:35   \n",
              "3     848935705057280001  2017-04-03 16:30:19   \n",
              "4     848416049573658624  2017-04-02 06:05:23   \n",
              "...                  ...                  ...   \n",
              "2814  142881284019060736  2011-12-03 08:22:07   \n",
              "2815  142880871391838208  2011-12-03 08:20:28   \n",
              "2816  142188458125963264  2011-12-01 10:29:04   \n",
              "2817  142179928203460608  2011-12-01 09:55:11   \n",
              "2818         15434727182  2010-06-04 18:31:57   \n",
              "\n",
              "     text                                                                                                                                                         \\\n",
              "0                                                                                               b'And so the robots spared humanity ... https://t.co/v7JUJQWfCv'   \n",
              "1     b\"@ForIn2020 @waltmossberg @mims @defcon_5 Exactly. Tesla is absurdly overvalued if based on the past, but that's irr\\xe2\\x80\\xa6 https://t.co/qQcTqkzgMl\"   \n",
              "2                                                                                                                  b'@waltmossberg @mims @defcon_5 Et tu, Walt?'   \n",
              "3                                                                                                                            b'Stormy weather in Shortville ...'   \n",
              "4                                                                              b\"@DaveLeeBBC @verge Coal is dying due to nat gas fracking. It's basically dead.\"   \n",
              "...                                                                                                                                                          ...   \n",
              "2814                                                                                                                        b'That was a total non sequitur btw'   \n",
              "2815                 b'Great Voltaire quote, arguably better than Twain. Hearing news of his own death, Voltaire replied the reports were true, only premature.'   \n",
              "2816                                                          I made the volume on the Model S  go to 11.  Now I just need to work in a miniature Stonehenge...'   \n",
              "2817             b\"Went to Iceland on Sat to ride bumper cars on ice!  No, not the country, Vlad's rink in Van Nuys. Awesome family fun :) http://t.co/rBQXJ9IT\"   \n",
              "2818                                                             b'Please ignore prior tweets, as that was someone pretending to be me :)  This is actually me.'   \n",
              "\n",
              "     preprocessed_tweet                                                                                          \n",
              "0                                                                                    [robot, spare, human, ...]  \n",
              "1                                               [exactli, tesla, absurdli, overvalu, base, past, that', irr, …]  \n",
              "2                                                                                                [et, tu, walt]  \n",
              "3                                                                              [stormi, weather, shortvil, ...]  \n",
              "4                                                                 [coal, die, due, nat, ga, frack, basic, dead]  \n",
              "...                                                                                                         ...  \n",
              "2814                                                                                [total, non, sequitur, btw]  \n",
              "2815  [great, voltair, quot, arguabl, better, twain, hear, news, death, voltair, repli, report, true, prematur]  \n",
              "2816                                         [made, volum, model, go, 11, need, work, miniatur, stoneheng, ...]  \n",
              "2817      [went, iceland, sat, ride, bumper, car, ice, countri, vlad', rink, van, nuy, awesom, famili, fun, :)]  \n",
              "2818                                                  [pleas, ignor, prior, tweet, someon, pretend, :), actual]  \n",
              "\n",
              "[2819 rows x 4 columns]"
            ],
            "text/html": [
              "\n",
              "  <div id=\"df-46800c9e-6f1b-406a-92b0-aa11f786a0d0\" class=\"colab-df-container\">\n",
              "    <div>\n",
              "<style scoped>\n",
              "    .dataframe tbody tr th:only-of-type {\n",
              "        vertical-align: middle;\n",
              "    }\n",
              "\n",
              "    .dataframe tbody tr th {\n",
              "        vertical-align: top;\n",
              "    }\n",
              "\n",
              "    .dataframe thead th {\n",
              "        text-align: right;\n",
              "    }\n",
              "</style>\n",
              "<table border=\"1\" class=\"dataframe\">\n",
              "  <thead>\n",
              "    <tr style=\"text-align: left;\">\n",
              "      <th></th>\n",
              "      <th>id</th>\n",
              "      <th>created_at</th>\n",
              "      <th>text</th>\n",
              "      <th>preprocessed_tweet</th>\n",
              "    </tr>\n",
              "  </thead>\n",
              "  <tbody>\n",
              "    <tr>\n",
              "      <th>0</th>\n",
              "      <td>849636868052275200</td>\n",
              "      <td>2017-04-05 14:56:29</td>\n",
              "      <td>b'And so the robots spared humanity ... https://t.co/v7JUJQWfCv'</td>\n",
              "      <td>[robot, spare, human, ...]</td>\n",
              "    </tr>\n",
              "    <tr>\n",
              "      <th>1</th>\n",
              "      <td>848988730585096192</td>\n",
              "      <td>2017-04-03 20:01:01</td>\n",
              "      <td>b\"@ForIn2020 @waltmossberg @mims @defcon_5 Exactly. Tesla is absurdly overvalued if based on the past, but that's irr\\xe2\\x80\\xa6 https://t.co/qQcTqkzgMl\"</td>\n",
              "      <td>[exactli, tesla, absurdli, overvalu, base, past, that', irr, …]</td>\n",
              "    </tr>\n",
              "    <tr>\n",
              "      <th>2</th>\n",
              "      <td>848943072423497728</td>\n",
              "      <td>2017-04-03 16:59:35</td>\n",
              "      <td>b'@waltmossberg @mims @defcon_5 Et tu, Walt?'</td>\n",
              "      <td>[et, tu, walt]</td>\n",
              "    </tr>\n",
              "    <tr>\n",
              "      <th>3</th>\n",
              "      <td>848935705057280001</td>\n",
              "      <td>2017-04-03 16:30:19</td>\n",
              "      <td>b'Stormy weather in Shortville ...'</td>\n",
              "      <td>[stormi, weather, shortvil, ...]</td>\n",
              "    </tr>\n",
              "    <tr>\n",
              "      <th>4</th>\n",
              "      <td>848416049573658624</td>\n",
              "      <td>2017-04-02 06:05:23</td>\n",
              "      <td>b\"@DaveLeeBBC @verge Coal is dying due to nat gas fracking. It's basically dead.\"</td>\n",
              "      <td>[coal, die, due, nat, ga, frack, basic, dead]</td>\n",
              "    </tr>\n",
              "    <tr>\n",
              "      <th>...</th>\n",
              "      <td>...</td>\n",
              "      <td>...</td>\n",
              "      <td>...</td>\n",
              "      <td>...</td>\n",
              "    </tr>\n",
              "    <tr>\n",
              "      <th>2814</th>\n",
              "      <td>142881284019060736</td>\n",
              "      <td>2011-12-03 08:22:07</td>\n",
              "      <td>b'That was a total non sequitur btw'</td>\n",
              "      <td>[total, non, sequitur, btw]</td>\n",
              "    </tr>\n",
              "    <tr>\n",
              "      <th>2815</th>\n",
              "      <td>142880871391838208</td>\n",
              "      <td>2011-12-03 08:20:28</td>\n",
              "      <td>b'Great Voltaire quote, arguably better than Twain. Hearing news of his own death, Voltaire replied the reports were true, only premature.'</td>\n",
              "      <td>[great, voltair, quot, arguabl, better, twain, hear, news, death, voltair, repli, report, true, prematur]</td>\n",
              "    </tr>\n",
              "    <tr>\n",
              "      <th>2816</th>\n",
              "      <td>142188458125963264</td>\n",
              "      <td>2011-12-01 10:29:04</td>\n",
              "      <td>I made the volume on the Model S  go to 11.  Now I just need to work in a miniature Stonehenge...'</td>\n",
              "      <td>[made, volum, model, go, 11, need, work, miniatur, stoneheng, ...]</td>\n",
              "    </tr>\n",
              "    <tr>\n",
              "      <th>2817</th>\n",
              "      <td>142179928203460608</td>\n",
              "      <td>2011-12-01 09:55:11</td>\n",
              "      <td>b\"Went to Iceland on Sat to ride bumper cars on ice!  No, not the country, Vlad's rink in Van Nuys. Awesome family fun :) http://t.co/rBQXJ9IT\"</td>\n",
              "      <td>[went, iceland, sat, ride, bumper, car, ice, countri, vlad', rink, van, nuy, awesom, famili, fun, :)]</td>\n",
              "    </tr>\n",
              "    <tr>\n",
              "      <th>2818</th>\n",
              "      <td>15434727182</td>\n",
              "      <td>2010-06-04 18:31:57</td>\n",
              "      <td>b'Please ignore prior tweets, as that was someone pretending to be me :)  This is actually me.'</td>\n",
              "      <td>[pleas, ignor, prior, tweet, someon, pretend, :), actual]</td>\n",
              "    </tr>\n",
              "  </tbody>\n",
              "</table>\n",
              "<p>2819 rows × 4 columns</p>\n",
              "</div>\n",
              "    <div class=\"colab-df-buttons\">\n",
              "\n",
              "  <div class=\"colab-df-container\">\n",
              "    <button class=\"colab-df-convert\" onclick=\"convertToInteractive('df-46800c9e-6f1b-406a-92b0-aa11f786a0d0')\"\n",
              "            title=\"Convert this dataframe to an interactive table.\"\n",
              "            style=\"display:none;\">\n",
              "\n",
              "  <svg xmlns=\"http://www.w3.org/2000/svg\" height=\"24px\" viewBox=\"0 -960 960 960\">\n",
              "    <path d=\"M120-120v-720h720v720H120Zm60-500h600v-160H180v160Zm220 220h160v-160H400v160Zm0 220h160v-160H400v160ZM180-400h160v-160H180v160Zm440 0h160v-160H620v160ZM180-180h160v-160H180v160Zm440 0h160v-160H620v160Z\"/>\n",
              "  </svg>\n",
              "    </button>\n",
              "\n",
              "  <style>\n",
              "    .colab-df-container {\n",
              "      display:flex;\n",
              "      gap: 12px;\n",
              "    }\n",
              "\n",
              "    .colab-df-convert {\n",
              "      background-color: #E8F0FE;\n",
              "      border: none;\n",
              "      border-radius: 50%;\n",
              "      cursor: pointer;\n",
              "      display: none;\n",
              "      fill: #1967D2;\n",
              "      height: 32px;\n",
              "      padding: 0 0 0 0;\n",
              "      width: 32px;\n",
              "    }\n",
              "\n",
              "    .colab-df-convert:hover {\n",
              "      background-color: #E2EBFA;\n",
              "      box-shadow: 0px 1px 2px rgba(60, 64, 67, 0.3), 0px 1px 3px 1px rgba(60, 64, 67, 0.15);\n",
              "      fill: #174EA6;\n",
              "    }\n",
              "\n",
              "    .colab-df-buttons div {\n",
              "      margin-bottom: 4px;\n",
              "    }\n",
              "\n",
              "    [theme=dark] .colab-df-convert {\n",
              "      background-color: #3B4455;\n",
              "      fill: #D2E3FC;\n",
              "    }\n",
              "\n",
              "    [theme=dark] .colab-df-convert:hover {\n",
              "      background-color: #434B5C;\n",
              "      box-shadow: 0px 1px 3px 1px rgba(0, 0, 0, 0.15);\n",
              "      filter: drop-shadow(0px 1px 2px rgba(0, 0, 0, 0.3));\n",
              "      fill: #FFFFFF;\n",
              "    }\n",
              "  </style>\n",
              "\n",
              "    <script>\n",
              "      const buttonEl =\n",
              "        document.querySelector('#df-46800c9e-6f1b-406a-92b0-aa11f786a0d0 button.colab-df-convert');\n",
              "      buttonEl.style.display =\n",
              "        google.colab.kernel.accessAllowed ? 'block' : 'none';\n",
              "\n",
              "      async function convertToInteractive(key) {\n",
              "        const element = document.querySelector('#df-46800c9e-6f1b-406a-92b0-aa11f786a0d0');\n",
              "        const dataTable =\n",
              "          await google.colab.kernel.invokeFunction('convertToInteractive',\n",
              "                                                    [key], {});\n",
              "        if (!dataTable) return;\n",
              "\n",
              "        const docLinkHtml = 'Like what you see? Visit the ' +\n",
              "          '<a target=\"_blank\" href=https://colab.research.google.com/notebooks/data_table.ipynb>data table notebook</a>'\n",
              "          + ' to learn more about interactive tables.';\n",
              "        element.innerHTML = '';\n",
              "        dataTable['output_type'] = 'display_data';\n",
              "        await google.colab.output.renderOutput(dataTable, element);\n",
              "        const docLink = document.createElement('div');\n",
              "        docLink.innerHTML = docLinkHtml;\n",
              "        element.appendChild(docLink);\n",
              "      }\n",
              "    </script>\n",
              "  </div>\n",
              "\n",
              "\n",
              "<div id=\"df-e1877c7a-5004-4739-8154-c52737253c93\">\n",
              "  <button class=\"colab-df-quickchart\" onclick=\"quickchart('df-e1877c7a-5004-4739-8154-c52737253c93')\"\n",
              "            title=\"Suggest charts\"\n",
              "            style=\"display:none;\">\n",
              "\n",
              "<svg xmlns=\"http://www.w3.org/2000/svg\" height=\"24px\"viewBox=\"0 0 24 24\"\n",
              "     width=\"24px\">\n",
              "    <g>\n",
              "        <path d=\"M19 3H5c-1.1 0-2 .9-2 2v14c0 1.1.9 2 2 2h14c1.1 0 2-.9 2-2V5c0-1.1-.9-2-2-2zM9 17H7v-7h2v7zm4 0h-2V7h2v10zm4 0h-2v-4h2v4z\"/>\n",
              "    </g>\n",
              "</svg>\n",
              "  </button>\n",
              "\n",
              "<style>\n",
              "  .colab-df-quickchart {\n",
              "      --bg-color: #E8F0FE;\n",
              "      --fill-color: #1967D2;\n",
              "      --hover-bg-color: #E2EBFA;\n",
              "      --hover-fill-color: #174EA6;\n",
              "      --disabled-fill-color: #AAA;\n",
              "      --disabled-bg-color: #DDD;\n",
              "  }\n",
              "\n",
              "  [theme=dark] .colab-df-quickchart {\n",
              "      --bg-color: #3B4455;\n",
              "      --fill-color: #D2E3FC;\n",
              "      --hover-bg-color: #434B5C;\n",
              "      --hover-fill-color: #FFFFFF;\n",
              "      --disabled-bg-color: #3B4455;\n",
              "      --disabled-fill-color: #666;\n",
              "  }\n",
              "\n",
              "  .colab-df-quickchart {\n",
              "    background-color: var(--bg-color);\n",
              "    border: none;\n",
              "    border-radius: 50%;\n",
              "    cursor: pointer;\n",
              "    display: none;\n",
              "    fill: var(--fill-color);\n",
              "    height: 32px;\n",
              "    padding: 0;\n",
              "    width: 32px;\n",
              "  }\n",
              "\n",
              "  .colab-df-quickchart:hover {\n",
              "    background-color: var(--hover-bg-color);\n",
              "    box-shadow: 0 1px 2px rgba(60, 64, 67, 0.3), 0 1px 3px 1px rgba(60, 64, 67, 0.15);\n",
              "    fill: var(--button-hover-fill-color);\n",
              "  }\n",
              "\n",
              "  .colab-df-quickchart-complete:disabled,\n",
              "  .colab-df-quickchart-complete:disabled:hover {\n",
              "    background-color: var(--disabled-bg-color);\n",
              "    fill: var(--disabled-fill-color);\n",
              "    box-shadow: none;\n",
              "  }\n",
              "\n",
              "  .colab-df-spinner {\n",
              "    border: 2px solid var(--fill-color);\n",
              "    border-color: transparent;\n",
              "    border-bottom-color: var(--fill-color);\n",
              "    animation:\n",
              "      spin 1s steps(1) infinite;\n",
              "  }\n",
              "\n",
              "  @keyframes spin {\n",
              "    0% {\n",
              "      border-color: transparent;\n",
              "      border-bottom-color: var(--fill-color);\n",
              "      border-left-color: var(--fill-color);\n",
              "    }\n",
              "    20% {\n",
              "      border-color: transparent;\n",
              "      border-left-color: var(--fill-color);\n",
              "      border-top-color: var(--fill-color);\n",
              "    }\n",
              "    30% {\n",
              "      border-color: transparent;\n",
              "      border-left-color: var(--fill-color);\n",
              "      border-top-color: var(--fill-color);\n",
              "      border-right-color: var(--fill-color);\n",
              "    }\n",
              "    40% {\n",
              "      border-color: transparent;\n",
              "      border-right-color: var(--fill-color);\n",
              "      border-top-color: var(--fill-color);\n",
              "    }\n",
              "    60% {\n",
              "      border-color: transparent;\n",
              "      border-right-color: var(--fill-color);\n",
              "    }\n",
              "    80% {\n",
              "      border-color: transparent;\n",
              "      border-right-color: var(--fill-color);\n",
              "      border-bottom-color: var(--fill-color);\n",
              "    }\n",
              "    90% {\n",
              "      border-color: transparent;\n",
              "      border-bottom-color: var(--fill-color);\n",
              "    }\n",
              "  }\n",
              "</style>\n",
              "\n",
              "  <script>\n",
              "    async function quickchart(key) {\n",
              "      const quickchartButtonEl =\n",
              "        document.querySelector('#' + key + ' button');\n",
              "      quickchartButtonEl.disabled = true;  // To prevent multiple clicks.\n",
              "      quickchartButtonEl.classList.add('colab-df-spinner');\n",
              "      try {\n",
              "        const charts = await google.colab.kernel.invokeFunction(\n",
              "            'suggestCharts', [key], {});\n",
              "      } catch (error) {\n",
              "        console.error('Error during call to suggestCharts:', error);\n",
              "      }\n",
              "      quickchartButtonEl.classList.remove('colab-df-spinner');\n",
              "      quickchartButtonEl.classList.add('colab-df-quickchart-complete');\n",
              "    }\n",
              "    (() => {\n",
              "      let quickchartButtonEl =\n",
              "        document.querySelector('#df-e1877c7a-5004-4739-8154-c52737253c93 button');\n",
              "      quickchartButtonEl.style.display =\n",
              "        google.colab.kernel.accessAllowed ? 'block' : 'none';\n",
              "    })();\n",
              "  </script>\n",
              "</div>\n",
              "\n",
              "  <div id=\"id_30f14cd4-a24f-453c-880a-f2c66de39645\">\n",
              "    <style>\n",
              "      .colab-df-generate {\n",
              "        background-color: #E8F0FE;\n",
              "        border: none;\n",
              "        border-radius: 50%;\n",
              "        cursor: pointer;\n",
              "        display: none;\n",
              "        fill: #1967D2;\n",
              "        height: 32px;\n",
              "        padding: 0 0 0 0;\n",
              "        width: 32px;\n",
              "      }\n",
              "\n",
              "      .colab-df-generate:hover {\n",
              "        background-color: #E2EBFA;\n",
              "        box-shadow: 0px 1px 2px rgba(60, 64, 67, 0.3), 0px 1px 3px 1px rgba(60, 64, 67, 0.15);\n",
              "        fill: #174EA6;\n",
              "      }\n",
              "\n",
              "      [theme=dark] .colab-df-generate {\n",
              "        background-color: #3B4455;\n",
              "        fill: #D2E3FC;\n",
              "      }\n",
              "\n",
              "      [theme=dark] .colab-df-generate:hover {\n",
              "        background-color: #434B5C;\n",
              "        box-shadow: 0px 1px 3px 1px rgba(0, 0, 0, 0.15);\n",
              "        filter: drop-shadow(0px 1px 2px rgba(0, 0, 0, 0.3));\n",
              "        fill: #FFFFFF;\n",
              "      }\n",
              "    </style>\n",
              "    <button class=\"colab-df-generate\" onclick=\"generateWithVariable('df')\"\n",
              "            title=\"Generate code using this dataframe.\"\n",
              "            style=\"display:none;\">\n",
              "\n",
              "  <svg xmlns=\"http://www.w3.org/2000/svg\" height=\"24px\"viewBox=\"0 0 24 24\"\n",
              "       width=\"24px\">\n",
              "    <path d=\"M7,19H8.4L18.45,9,17,7.55,7,17.6ZM5,21V16.75L18.45,3.32a2,2,0,0,1,2.83,0l1.4,1.43a1.91,1.91,0,0,1,.58,1.4,1.91,1.91,0,0,1-.58,1.4L9.25,21ZM18.45,9,17,7.55Zm-12,3A5.31,5.31,0,0,0,4.9,8.1,5.31,5.31,0,0,0,1,6.5,5.31,5.31,0,0,0,4.9,4.9,5.31,5.31,0,0,0,6.5,1,5.31,5.31,0,0,0,8.1,4.9,5.31,5.31,0,0,0,12,6.5,5.46,5.46,0,0,0,6.5,12Z\"/>\n",
              "  </svg>\n",
              "    </button>\n",
              "    <script>\n",
              "      (() => {\n",
              "      const buttonEl =\n",
              "        document.querySelector('#id_30f14cd4-a24f-453c-880a-f2c66de39645 button.colab-df-generate');\n",
              "      buttonEl.style.display =\n",
              "        google.colab.kernel.accessAllowed ? 'block' : 'none';\n",
              "\n",
              "      buttonEl.onclick = () => {\n",
              "        google.colab.notebook.generateWithVariable('df');\n",
              "      }\n",
              "      })();\n",
              "    </script>\n",
              "  </div>\n",
              "\n",
              "    </div>\n",
              "  </div>\n"
            ]
          },
          "metadata": {}
        }
      ]
    },
    {
      "cell_type": "markdown",
      "metadata": {
        "id": "MOFlGR0y2koi"
      },
      "source": [
        "## Part 1.3 Create a Levensthein Distance Formula"
      ]
    },
    {
      "cell_type": "markdown",
      "metadata": {
        "id": "km5cU90S2koj"
      },
      "source": [
        "Recall that Edit Distance is the similarity between two words represented numericallly. Levenstehin distance is one of the most common algorithms used in calculating the edit distance between two words.\n",
        "\n",
        "Create your own simple Levensthein distance function. Then return the results of the distance between two words: _stemming_ and _lemmatization_.\n"
      ]
    },
    {
      "cell_type": "code",
      "source": [
        "string1 = 'stemming'\n",
        "string2 = 'lemmatization'\n",
        "def lemmatization(string1,string2):\n",
        "    m =len(string1)\n",
        "    n = len(string2)\n",
        "    matrix = [[0] * (n + 1) for _ in range(m + 1)]\n",
        "    for i in range(m + 1):\n",
        "        matrix[i][0] = i\n",
        "    for j in range(n + 1):\n",
        "        matrix[0][j] = j\n",
        "    for i in range(1,m+1):\n",
        "        for j in range(1,n+1):\n",
        "            cost = 0 if string1[i - 1] == string2[j - 1] else 1\n",
        "            matrix[i][j] = min(matrix[i - 1][j] + 1, matrix[i][j - 1] + 1, matrix[i - 1][j - 1] + cost)\n",
        "    return matrix[m][n]\n",
        "print(f\"Levenshtein distance between '{string1}' and '{string2}': {lemmatization(string1,string2) }\")\n",
        "\n",
        ""
      ],
      "metadata": {
        "id": "teSaHxFCykFP",
        "colab": {
          "base_uri": "https://localhost:8080/"
        },
        "outputId": "27314fe8-e295-4b00-bd8a-233077c52bc2"
      },
      "execution_count": 21,
      "outputs": [
        {
          "output_type": "stream",
          "name": "stdout",
          "text": [
            "Levenshtein distance between 'stemming' and 'lemmatization': 10\n"
          ]
        }
      ]
    },
    {
      "cell_type": "markdown",
      "metadata": {
        "id": "9a5gh6B-2kok"
      },
      "source": [
        "### Expected output:\n",
        "Your Levensthein Distance is: 10"
      ]
    },
    {
      "cell_type": "markdown",
      "metadata": {
        "id": "J3PHkeRY2kol"
      },
      "source": [
        "#end of assignment#\n",
        "                                            \n",
        "Source:\n",
        "Natural Language preprocessing, deeplearning.ai\n",
        "Twitter API documentation\n",
        "Wikipedia: Levensthein Distance\n",
        "Chapter 2 (Jurafsky and Martin)\n",
        "                        \n"
      ]
    }
  ]
}