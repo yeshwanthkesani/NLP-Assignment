{
 "cells": [
  {
   "cell_type": "markdown",
   "id": "ff21a3a6-6af2-44c0-8b7c-174125fa4951",
   "metadata": {},
   "source": [
    "# Data Preprocessing"
   ]
  },
  {
   "cell_type": "markdown",
   "id": "df3ea8ca-5fc8-41a4-bc0e-810a2d707bab",
   "metadata": {},
   "source": [
    "## Twitter data"
   ]
  },
  {
   "cell_type": "code",
   "execution_count": 48,
   "id": "c151f258-4dd0-4413-aac9-36f6907abb1e",
   "metadata": {},
   "outputs": [],
   "source": [
    "# libraries\n",
    "import pandas as pd\n",
    "import numpy as np\n",
    "import re"
   ]
  },
  {
   "cell_type": "code",
   "execution_count": 49,
   "id": "6c359b4f-fbe2-4fa8-b0de-ec4ea05fbf82",
   "metadata": {},
   "outputs": [
    {
     "data": {
      "text/html": [
       "<div>\n",
       "<style scoped>\n",
       "    .dataframe tbody tr th:only-of-type {\n",
       "        vertical-align: middle;\n",
       "    }\n",
       "\n",
       "    .dataframe tbody tr th {\n",
       "        vertical-align: top;\n",
       "    }\n",
       "\n",
       "    .dataframe thead th {\n",
       "        text-align: right;\n",
       "    }\n",
       "</style>\n",
       "<table border=\"1\" class=\"dataframe\">\n",
       "  <thead>\n",
       "    <tr style=\"text-align: left;\">\n",
       "      <th></th>\n",
       "      <th>id</th>\n",
       "      <th>created_at</th>\n",
       "      <th>text</th>\n",
       "    </tr>\n",
       "  </thead>\n",
       "  <tbody>\n",
       "    <tr>\n",
       "      <th>0</th>\n",
       "      <td>849636868052275200</td>\n",
       "      <td>2017-04-05 14:56:29</td>\n",
       "      <td>b'And so the robots spared humanity ... https://t.co/v7JUJQWfCv'</td>\n",
       "    </tr>\n",
       "    <tr>\n",
       "      <th>1</th>\n",
       "      <td>848988730585096192</td>\n",
       "      <td>2017-04-03 20:01:01</td>\n",
       "      <td>b\"@ForIn2020 @waltmossberg @mims @defcon_5 Exactly. Tesla is absurdly overvalued if based on the past, but that's irr\\xe2\\x80\\xa6 https://t.co/qQcTqkzgMl\"</td>\n",
       "    </tr>\n",
       "    <tr>\n",
       "      <th>2</th>\n",
       "      <td>848943072423497728</td>\n",
       "      <td>2017-04-03 16:59:35</td>\n",
       "      <td>b'@waltmossberg @mims @defcon_5 Et tu, Walt?'</td>\n",
       "    </tr>\n",
       "    <tr>\n",
       "      <th>3</th>\n",
       "      <td>848935705057280001</td>\n",
       "      <td>2017-04-03 16:30:19</td>\n",
       "      <td>b'Stormy weather in Shortville ...'</td>\n",
       "    </tr>\n",
       "    <tr>\n",
       "      <th>4</th>\n",
       "      <td>848416049573658624</td>\n",
       "      <td>2017-04-02 06:05:23</td>\n",
       "      <td>b\"@DaveLeeBBC @verge Coal is dying due to nat gas fracking. It's basically dead.\"</td>\n",
       "    </tr>\n",
       "  </tbody>\n",
       "</table>\n",
       "</div>"
      ],
      "text/plain": [
       "   id                 created_at            \\\n",
       "0  849636868052275200  2017-04-05 14:56:29   \n",
       "1  848988730585096192  2017-04-03 20:01:01   \n",
       "2  848943072423497728  2017-04-03 16:59:35   \n",
       "3  848935705057280001  2017-04-03 16:30:19   \n",
       "4  848416049573658624  2017-04-02 06:05:23   \n",
       "\n",
       "  text                                                                                                                                                         \n",
       "0                                                                                            b'And so the robots spared humanity ... https://t.co/v7JUJQWfCv'  \n",
       "1  b\"@ForIn2020 @waltmossberg @mims @defcon_5 Exactly. Tesla is absurdly overvalued if based on the past, but that's irr\\xe2\\x80\\xa6 https://t.co/qQcTqkzgMl\"  \n",
       "2                                                                                                               b'@waltmossberg @mims @defcon_5 Et tu, Walt?'  \n",
       "3                                                                                                                         b'Stormy weather in Shortville ...'  \n",
       "4                                                                           b\"@DaveLeeBBC @verge Coal is dying due to nat gas fracking. It's basically dead.\"  "
      ]
     },
     "execution_count": 49,
     "metadata": {},
     "output_type": "execute_result"
    }
   ],
   "source": [
    "df = pd.read_csv(\"elonmusk_tweets.csv\")\n",
    "df.head()"
   ]
  },
  {
   "cell_type": "code",
   "execution_count": 50,
   "id": "62b17169-37ce-4a3f-816e-0d029b106068",
   "metadata": {},
   "outputs": [
    {
     "name": "stdout",
     "output_type": "stream",
     "text": [
      "<class 'pandas.core.frame.DataFrame'>\n",
      "RangeIndex: 2819 entries, 0 to 2818\n",
      "Data columns (total 3 columns):\n",
      " #   Column      Non-Null Count  Dtype \n",
      "---  ------      --------------  ----- \n",
      " 0   id          2819 non-null   int64 \n",
      " 1   created_at  2819 non-null   object\n",
      " 2   text        2819 non-null   object\n",
      "dtypes: int64(1), object(2)\n",
      "memory usage: 66.2+ KB\n"
     ]
    }
   ],
   "source": [
    "df.info()"
   ]
  },
  {
   "cell_type": "markdown",
   "id": "231e9508-a8c6-4e77-8879-ee2b9f0e4998",
   "metadata": {},
   "source": [
    "### objective is to preprocess the data. so that it could be trained in a model based on the requirement. "
   ]
  },
  {
   "cell_type": "code",
   "execution_count": 51,
   "id": "10321464-eb89-4d98-971f-623ac0945adb",
   "metadata": {},
   "outputs": [],
   "source": [
    "pd.set_option('display.colheader_justify', 'left') \n",
    "pd.set_option('display.max_colwidth', None)"
   ]
  },
  {
   "cell_type": "code",
   "execution_count": 52,
   "id": "3564fef0-535b-4376-ba5d-7eea461ff8d3",
   "metadata": {},
   "outputs": [
    {
     "name": "stdout",
     "output_type": "stream",
     "text": [
      "0                                                                                              b'And so the robots spared humanity ... https://t.co/v7JUJQWfCv'\n",
      "1    b\"@ForIn2020 @waltmossberg @mims @defcon_5 Exactly. Tesla is absurdly overvalued if based on the past, but that's irr\\xe2\\x80\\xa6 https://t.co/qQcTqkzgMl\"\n",
      "2                                                                                                                 b'@waltmossberg @mims @defcon_5 Et tu, Walt?'\n",
      "3                                                                                                                           b'Stormy weather in Shortville ...'\n",
      "4                                                                             b\"@DaveLeeBBC @verge Coal is dying due to nat gas fracking. It's basically dead.\"\n",
      "Name: text, dtype: object\n"
     ]
    }
   ],
   "source": [
    "print(df['text'][0:5])"
   ]
  },
  {
   "cell_type": "markdown",
   "id": "e9978d75-2d97-40f1-9e4e-823db48331f0",
   "metadata": {},
   "source": [
    "### So we can see here that there are some ambiguity in the data, which will increase the complexity for the model to understand context of the data. Especially when it comes to sentiment analysis (viz the process of understanding the digital text to determine the tone of the message. whether it is positive, negative or neutral)."
   ]
  },
  {
   "cell_type": "markdown",
   "id": "bdaa481d-a566-4615-a15f-789a1193fb6b",
   "metadata": {},
   "source": [
    "# Data cleaning"
   ]
  },
  {
   "cell_type": "markdown",
   "id": "208c0675-2475-4634-b0b7-41309c92e307",
   "metadata": {},
   "source": [
    "### when it comes to sentiment analysis of twitter data, we should remove URL/mail id, and hash tags. since they do not give any information when we try to analyze text from words, by doing this they take less space."
   ]
  },
  {
   "cell_type": "markdown",
   "id": "b7653136-1300-4f4b-912f-ae4518b7c1b1",
   "metadata": {},
   "source": [
    "## Example"
   ]
  },
  {
   "cell_type": "code",
   "execution_count": 53,
   "id": "199533a1-d5ea-4b2b-afc9-e56a202e6e47",
   "metadata": {},
   "outputs": [],
   "source": [
    "p = df['text'][2816]\n",
    "remove_hp = r\"https?://\\S+|www\\.\\S+\""
   ]
  },
  {
   "cell_type": "markdown",
   "id": "0338d0d3-b487-470c-8fb8-0237e34ec8bc",
   "metadata": {},
   "source": [
    "### URLs are complex, creating a regular expression for all formats is a challenging task. This regular expression is designed to match both HTTP/HTTPS URLs and URLs starting with \"www.\". The | allows it to capture either of these patterns in a given text."
   ]
  },
  {
   "cell_type": "code",
   "execution_count": 54,
   "id": "dc6e3ccc-063d-4796-bb1b-1f040c59d4d5",
   "metadata": {},
   "outputs": [
    {
     "data": {
      "text/plain": [
       "\"b'And so the robots spared humanity ... https://t.co/v7JUJQWfCv'\""
      ]
     },
     "execution_count": 54,
     "metadata": {},
     "output_type": "execute_result"
    }
   ],
   "source": [
    "# example\n",
    "df['text'][0]"
   ]
  },
  {
   "cell_type": "code",
   "execution_count": 55,
   "id": "e178568d-f3d4-4cbc-9e03-873cbbc79342",
   "metadata": {},
   "outputs": [
    {
     "name": "stdout",
     "output_type": "stream",
     "text": [
      "b'And so the robots spared humanity ... \n"
     ]
    }
   ],
   "source": [
    "x = re.sub(remove_hp,'',df['text'][0]) # here we are replacing the hyperlink with null empty\n",
    "print(x)"
   ]
  },
  {
   "cell_type": "code",
   "execution_count": 56,
   "id": "776c7d18-97bd-4b87-b092-f5add2997032",
   "metadata": {},
   "outputs": [
    {
     "name": "stdout",
     "output_type": "stream",
     "text": [
      "\n",
      " hi, please check this link  \n",
      " hi, please check this link  \n",
      " hi, please check this link \n"
     ]
    }
   ],
   "source": [
    "a = 'hi, please check this link https://xyz.com'\n",
    "b = 'hi, please check this link http://xyz.com'\n",
    "c = 'hi, please check this link www.xyz.com'\n",
    "a1 = re.sub(remove_hp,'',a)\n",
    "a2 = re.sub(remove_hp,'',b)\n",
    "a3 = re.sub(remove_hp,'',c)\n",
    "print('\\n',a1,'\\n',a2,'\\n',a3)"
   ]
  },
  {
   "cell_type": "markdown",
   "id": "e7ed07f3-264b-4eb3-b7cf-e4b62eac72e1",
   "metadata": {},
   "source": [
    "## Here we can see from above example that our regular expression is able to remove given URL"
   ]
  },
  {
   "cell_type": "markdown",
   "id": "66ab7c50-2d3c-49cd-b5be-134c8d45dd75",
   "metadata": {},
   "source": [
    "### Removing the hashtags will help model to focus on content of the text than metadata. Which will help in analysing based on expressed opinions.additionally removing them will reduce noise. Same goes with @, and also it will keep the conversation private, especially if the content mentions of specific individual didnt give consent of beeing part of sentimental analysis."
   ]
  },
  {
   "cell_type": "markdown",
   "id": "f67f7dda-efe7-4c88-813f-3bf518ac75fe",
   "metadata": {},
   "source": [
    "### However drawbacks are loss of context, Impact on Brand incase if they are asking public opinion on specific brand"
   ]
  },
  {
   "cell_type": "markdown",
   "id": "664a602f-3806-4f86-bf98-34aeb8fb7229",
   "metadata": {},
   "source": [
    "#### since we dont have specific targets, we will be removing these anamolies for reducing noises "
   ]
  },
  {
   "cell_type": "code",
   "execution_count": 57,
   "id": "9d77357c-2d05-4fe3-9cd6-e58ef484545d",
   "metadata": {},
   "outputs": [
    {
     "data": {
      "text/plain": [
       "'b\"@ForIn2020 @waltmossberg @mims @defcon_5 Exactly. Tesla is absurdly overvalued if based on the past, but that\\'s irr\\\\xe2\\\\x80\\\\xa6 https://t.co/qQcTqkzgMl\"'"
      ]
     },
     "execution_count": 57,
     "metadata": {},
     "output_type": "execute_result"
    }
   ],
   "source": [
    "df['text'][1]"
   ]
  },
  {
   "cell_type": "code",
   "execution_count": 58,
   "id": "3c9250db-c161-4bbf-88ff-b23e4eb816ae",
   "metadata": {},
   "outputs": [
    {
     "name": "stdout",
     "output_type": "stream",
     "text": [
      "b\"    Exactly. Tesla is absurdly overvalued if based on the past, but that's irr\\xe2\\x80\\xa6 https://t.co/qQcTqkzgMl\"\n"
     ]
    }
   ],
   "source": [
    "regex_hash= r'#\\S+|@\\S+'\n",
    "x = re.sub(regex_hash,'',df['text'][1]) # here we are replacing the hyperlink with null empty\n",
    "print(x)"
   ]
  },
  {
   "cell_type": "code",
   "execution_count": 59,
   "id": "8a394fe8-f3fa-4f6f-ace1-75ce74c8f018",
   "metadata": {},
   "outputs": [
    {
     "name": "stdout",
     "output_type": "stream",
     "text": [
      "Stormy weather in Shortville ...\n"
     ]
    }
   ],
   "source": [
    "# removing b from each string\n",
    "regex_beginning = r\"^b['\\\"]|[/'\\\"]$\"\n",
    "p = re.sub(regex_beginning, '', df['text'][3])\n",
    "print(p)\n"
   ]
  },
  {
   "cell_type": "code",
   "execution_count": 60,
   "id": "761789d8-ff7d-4394-8752-4034be326927",
   "metadata": {},
   "outputs": [],
   "source": [
    "import nltk                                # Python library for NLP\n",
    "import string                              # for string operations\n",
    "\n",
    "from nltk.corpus import stopwords          # module for stop words that come with NLTK\n",
    "from nltk.stem import PorterStemmer        # module for stemming\n",
    "from nltk.tokenize import TweetTokenizer   # module for tokenizing strings"
   ]
  },
  {
   "cell_type": "markdown",
   "id": "7e7ccc6e-b67d-4566-ac84-0545566eaafe",
   "metadata": {},
   "source": [
    "## removing puntuation will help in simplifying the text, improve the tokenization and reduces dimentionality\n",
    "## However Punctuation can convey sentiment, emphasis, or tone. For sentiment analysis tasks, preserving certain punctuation marks"
   ]
  },
  {
   "cell_type": "code",
   "execution_count": 61,
   "id": "0296102c-3e91-44b4-914c-03ee779d2469",
   "metadata": {},
   "outputs": [
    {
     "data": {
      "text/plain": [
       "'!\"#$%&\\'()*+,-./:;<=>?@[\\\\]^_`{|}~'"
      ]
     },
     "execution_count": 61,
     "metadata": {},
     "output_type": "execute_result"
    }
   ],
   "source": [
    "string.punctuation"
   ]
  },
  {
   "cell_type": "markdown",
   "id": "6b8dfc4e-6a41-4128-88e8-f04d4046ec09",
   "metadata": {},
   "source": [
    "## stop words are coomon words which is used in a sentece\n",
    "## These words are considered to be of little value in terms of conveying meaningful information about the content of the text. Stop words are typically very frequent and do not contribute much to the overall meaning of a sentence."
   ]
  },
  {
   "cell_type": "code",
   "execution_count": 39,
   "id": "d5a7837a-3d14-44ca-b8f4-d3297190d2db",
   "metadata": {},
   "outputs": [
    {
     "name": "stderr",
     "output_type": "stream",
     "text": [
      "[nltk_data] Downloading package stopwords to\n",
      "[nltk_data]     C:\\Users\\yeshw\\AppData\\Roaming\\nltk_data...\n",
      "[nltk_data]   Unzipping corpora\\stopwords.zip.\n"
     ]
    },
    {
     "data": {
      "text/plain": [
       "True"
      ]
     },
     "execution_count": 39,
     "metadata": {},
     "output_type": "execute_result"
    }
   ],
   "source": [
    "# download the stopwords from NLTK\n",
    "nltk.download('stopwords')"
   ]
  },
  {
   "cell_type": "code",
   "execution_count": 40,
   "id": "050b9521-c5db-489b-a9dc-cf72bab90211",
   "metadata": {},
   "outputs": [],
   "source": [
    "tokenizer = TweetTokenizer(preserve_case=False, strip_handles=True, reduce_len=True)"
   ]
  },
  {
   "cell_type": "code",
   "execution_count": 42,
   "id": "5016ad3e-9809-443e-92f3-e2062f2c20b7",
   "metadata": {},
   "outputs": [],
   "source": [
    "def preprocess():\n",
    "    df['tokenized_text'] = df['text'][0:5].apply(lambda x: TweetTokenizer().tokenize(x))"
   ]
  },
  {
   "cell_type": "code",
   "execution_count": 44,
   "id": "73dea5e9-196c-45e2-8e23-8ce6444dd3f5",
   "metadata": {},
   "outputs": [
    {
     "name": "stdout",
     "output_type": "stream",
     "text": [
      "0                                                                                                                         [b'And, so, the, robots, spared, humanity, ..., https://t.co/v7JUJQWfCv, ']\n",
      "1       [@ForIn2020, @waltmossberg, @mims, @defcon_5, Exactly, ., Tesla, is, absurdly, overvalued, if, based, on, the, past, ,, but, that's, irr, \\, xe2, \\, x80, \\, xa6, https://t.co/qQcTqkzgMl, \"]\n",
      "2                                                                                                                                      [b, ', @waltmossberg, @mims, @defcon_5, Et, tu, ,, Walt, ?, ']\n",
      "3                                                                                                                                                         [b'Stormy, weather, in, Shortville, ..., ']\n",
      "4                                                                                           [b, \", @DaveLeeBBC, @verge, Coal, is, dying, due, to, nat, gas, fracking, ., It's, basically, dead, ., \"]\n",
      "                                                                                                    ...                                                                                              \n",
      "2814                                                                                                                                                                                              NaN\n",
      "2815                                                                                                                                                                                              NaN\n",
      "2816                                                                                                                                                                                              NaN\n",
      "2817                                                                                                                                                                                              NaN\n",
      "2818                                                                                                                                                                                              NaN\n",
      "Name: tokenized_text, Length: 2819, dtype: object\n"
     ]
    }
   ],
   "source": []
  },
  {
   "cell_type": "code",
   "execution_count": 47,
   "id": "41740913-e178-44ee-9984-b24c23840188",
   "metadata": {},
   "outputs": [
    {
     "data": {
      "text/html": [
       "<div>\n",
       "<style scoped>\n",
       "    .dataframe tbody tr th:only-of-type {\n",
       "        vertical-align: middle;\n",
       "    }\n",
       "\n",
       "    .dataframe tbody tr th {\n",
       "        vertical-align: top;\n",
       "    }\n",
       "\n",
       "    .dataframe thead th {\n",
       "        text-align: right;\n",
       "    }\n",
       "</style>\n",
       "<table border=\"1\" class=\"dataframe\">\n",
       "  <thead>\n",
       "    <tr style=\"text-align: left;\">\n",
       "      <th></th>\n",
       "      <th>id</th>\n",
       "      <th>created_at</th>\n",
       "      <th>text</th>\n",
       "      <th>tokenized_text</th>\n",
       "    </tr>\n",
       "  </thead>\n",
       "  <tbody>\n",
       "    <tr>\n",
       "      <th>0</th>\n",
       "      <td>849636868052275200</td>\n",
       "      <td>2017-04-05 14:56:29</td>\n",
       "      <td>b'And so the robots spared humanity ... https://t.co/v7JUJQWfCv'</td>\n",
       "      <td>[b'And, so, the, robots, spared, humanity, ..., https://t.co/v7JUJQWfCv, ']</td>\n",
       "    </tr>\n",
       "    <tr>\n",
       "      <th>1</th>\n",
       "      <td>848988730585096192</td>\n",
       "      <td>2017-04-03 20:01:01</td>\n",
       "      <td>@ForIn2020 @waltmossberg @mims @defcon_5 Exactly. Tesla is absurdly overvalued if based on the past, but that's irr\\xe2\\x80\\xa6 https://t.co/qQcTqkzgMl\"</td>\n",
       "      <td>[@ForIn2020, @waltmossberg, @mims, @defcon_5, Exactly, ., Tesla, is, absurdly, overvalued, if, based, on, the, past, ,, but, that's, irr, \\, xe2, \\, x80, \\, xa6, https://t.co/qQcTqkzgMl, \"]</td>\n",
       "    </tr>\n",
       "    <tr>\n",
       "      <th>2</th>\n",
       "      <td>848943072423497728</td>\n",
       "      <td>2017-04-03 16:59:35</td>\n",
       "      <td>b'@waltmossberg @mims @defcon_5 Et tu, Walt?'</td>\n",
       "      <td>[b, ', @waltmossberg, @mims, @defcon_5, Et, tu, ,, Walt, ?, ']</td>\n",
       "    </tr>\n",
       "    <tr>\n",
       "      <th>3</th>\n",
       "      <td>848935705057280001</td>\n",
       "      <td>2017-04-03 16:30:19</td>\n",
       "      <td>b'Stormy weather in Shortville ...'</td>\n",
       "      <td>[b'Stormy, weather, in, Shortville, ..., ']</td>\n",
       "    </tr>\n",
       "    <tr>\n",
       "      <th>4</th>\n",
       "      <td>848416049573658624</td>\n",
       "      <td>2017-04-02 06:05:23</td>\n",
       "      <td>b\"@DaveLeeBBC @verge Coal is dying due to nat gas fracking. It's basically dead.\"</td>\n",
       "      <td>[b, \", @DaveLeeBBC, @verge, Coal, is, dying, due, to, nat, gas, fracking, ., It's, basically, dead, ., \"]</td>\n",
       "    </tr>\n",
       "    <tr>\n",
       "      <th>...</th>\n",
       "      <td>...</td>\n",
       "      <td>...</td>\n",
       "      <td>...</td>\n",
       "      <td>...</td>\n",
       "    </tr>\n",
       "    <tr>\n",
       "      <th>2814</th>\n",
       "      <td>142881284019060736</td>\n",
       "      <td>2011-12-03 08:22:07</td>\n",
       "      <td>b'That was a total non sequitur btw'</td>\n",
       "      <td>NaN</td>\n",
       "    </tr>\n",
       "    <tr>\n",
       "      <th>2815</th>\n",
       "      <td>142880871391838208</td>\n",
       "      <td>2011-12-03 08:20:28</td>\n",
       "      <td>b'Great Voltaire quote, arguably better than Twain. Hearing news of his own death, Voltaire replied the reports were true, only premature.'</td>\n",
       "      <td>NaN</td>\n",
       "    </tr>\n",
       "    <tr>\n",
       "      <th>2816</th>\n",
       "      <td>142188458125963264</td>\n",
       "      <td>2011-12-01 10:29:04</td>\n",
       "      <td>b'I made the volume on the Model S http://t.co/wMCnT53M go to 11.  Now I just need to work in a miniature Stonehenge...'</td>\n",
       "      <td>NaN</td>\n",
       "    </tr>\n",
       "    <tr>\n",
       "      <th>2817</th>\n",
       "      <td>142179928203460608</td>\n",
       "      <td>2011-12-01 09:55:11</td>\n",
       "      <td>b\"Went to Iceland on Sat to ride bumper cars on ice!  No, not the country, Vlad's rink in Van Nuys. Awesome family fun :) http://t.co/rBQXJ9IT\"</td>\n",
       "      <td>NaN</td>\n",
       "    </tr>\n",
       "    <tr>\n",
       "      <th>2818</th>\n",
       "      <td>15434727182</td>\n",
       "      <td>2010-06-04 18:31:57</td>\n",
       "      <td>b'Please ignore prior tweets, as that was someone pretending to be me :)  This is actually me.'</td>\n",
       "      <td>NaN</td>\n",
       "    </tr>\n",
       "  </tbody>\n",
       "</table>\n",
       "<p>2819 rows × 4 columns</p>\n",
       "</div>"
      ],
      "text/plain": [
       "      id                 created_at            \\\n",
       "0     849636868052275200  2017-04-05 14:56:29   \n",
       "1     848988730585096192  2017-04-03 20:01:01   \n",
       "2     848943072423497728  2017-04-03 16:59:35   \n",
       "3     848935705057280001  2017-04-03 16:30:19   \n",
       "4     848416049573658624  2017-04-02 06:05:23   \n",
       "...                  ...                  ...   \n",
       "2814  142881284019060736  2011-12-03 08:22:07   \n",
       "2815  142880871391838208  2011-12-03 08:20:28   \n",
       "2816  142188458125963264  2011-12-01 10:29:04   \n",
       "2817  142179928203460608  2011-12-01 09:55:11   \n",
       "2818         15434727182  2010-06-04 18:31:57   \n",
       "\n",
       "     text                                                                                                                                                       \\\n",
       "0                                                                                             b'And so the robots spared humanity ... https://t.co/v7JUJQWfCv'   \n",
       "1     @ForIn2020 @waltmossberg @mims @defcon_5 Exactly. Tesla is absurdly overvalued if based on the past, but that's irr\\xe2\\x80\\xa6 https://t.co/qQcTqkzgMl\"   \n",
       "2                                                                                                                b'@waltmossberg @mims @defcon_5 Et tu, Walt?'   \n",
       "3                                                                                                                          b'Stormy weather in Shortville ...'   \n",
       "4                                                                            b\"@DaveLeeBBC @verge Coal is dying due to nat gas fracking. It's basically dead.\"   \n",
       "...                                                                                                                                                        ...   \n",
       "2814                                                                                                                      b'That was a total non sequitur btw'   \n",
       "2815               b'Great Voltaire quote, arguably better than Twain. Hearing news of his own death, Voltaire replied the reports were true, only premature.'   \n",
       "2816                                  b'I made the volume on the Model S http://t.co/wMCnT53M go to 11.  Now I just need to work in a miniature Stonehenge...'   \n",
       "2817           b\"Went to Iceland on Sat to ride bumper cars on ice!  No, not the country, Vlad's rink in Van Nuys. Awesome family fun :) http://t.co/rBQXJ9IT\"   \n",
       "2818                                                           b'Please ignore prior tweets, as that was someone pretending to be me :)  This is actually me.'   \n",
       "\n",
       "     tokenized_text                                                                                                                                                                                  \n",
       "0                                                                                                                       [b'And, so, the, robots, spared, humanity, ..., https://t.co/v7JUJQWfCv, ']  \n",
       "1     [@ForIn2020, @waltmossberg, @mims, @defcon_5, Exactly, ., Tesla, is, absurdly, overvalued, if, based, on, the, past, ,, but, that's, irr, \\, xe2, \\, x80, \\, xa6, https://t.co/qQcTqkzgMl, \"]  \n",
       "2                                                                                                                                    [b, ', @waltmossberg, @mims, @defcon_5, Et, tu, ,, Walt, ?, ']  \n",
       "3                                                                                                                                                       [b'Stormy, weather, in, Shortville, ..., ']  \n",
       "4                                                                                         [b, \", @DaveLeeBBC, @verge, Coal, is, dying, due, to, nat, gas, fracking, ., It's, basically, dead, ., \"]  \n",
       "...                                                                                                                                                                                             ...  \n",
       "2814                                                                                                                                                                                            NaN  \n",
       "2815                                                                                                                                                                                            NaN  \n",
       "2816                                                                                                                                                                                            NaN  \n",
       "2817                                                                                                                                                                                            NaN  \n",
       "2818                                                                                                                                                                                            NaN  \n",
       "\n",
       "[2819 rows x 4 columns]"
      ]
     },
     "execution_count": 47,
     "metadata": {},
     "output_type": "execute_result"
    }
   ],
   "source": [
    "df"
   ]
  },
  {
   "cell_type": "code",
   "execution_count": 62,
   "id": "6f2c3734-5a4d-4254-ab8b-b703f55bab79",
   "metadata": {},
   "outputs": [],
   "source": [
    "def clean_text(text):\n",
    "    # Remove URLs\n",
    "    text = re.sub(r\"https?://\\S+|www\\.\\S+\", '', text)\n",
    "    \n",
    "    # Remove hashtags\n",
    "    text = re.sub(r'#\\S+|@\\S+', '', text)\n",
    "    \n",
    "    # Remove mentions\n",
    "    text = re.sub(r\"^b['\\\"]|[/'\\\"]$\", '', text)\n",
    "    \n",
    "    return text.strip()"
   ]
  },
  {
   "cell_type": "code",
   "execution_count": 96,
   "id": "9dac238b-3681-4ba9-91eb-1895081a5363",
   "metadata": {},
   "outputs": [],
   "source": [
    "df1 = df['text'][1:10].apply(clean_text)\n",
    "df1 = pd.DataFrame({'t_text': df1})"
   ]
  },
  {
   "cell_type": "code",
   "execution_count": 97,
   "id": "4d1deb15-c479-4278-b44f-bdde222a9fc8",
   "metadata": {},
   "outputs": [
    {
     "data": {
      "text/html": [
       "<div>\n",
       "<style scoped>\n",
       "    .dataframe tbody tr th:only-of-type {\n",
       "        vertical-align: middle;\n",
       "    }\n",
       "\n",
       "    .dataframe tbody tr th {\n",
       "        vertical-align: top;\n",
       "    }\n",
       "\n",
       "    .dataframe thead th {\n",
       "        text-align: right;\n",
       "    }\n",
       "</style>\n",
       "<table border=\"1\" class=\"dataframe\">\n",
       "  <thead>\n",
       "    <tr style=\"text-align: left;\">\n",
       "      <th></th>\n",
       "      <th>t_text</th>\n",
       "    </tr>\n",
       "  </thead>\n",
       "  <tbody>\n",
       "    <tr>\n",
       "      <th>1</th>\n",
       "      <td>Exactly. Tesla is absurdly overvalued if based on the past, but that's irr\\xe2\\x80\\xa6</td>\n",
       "    </tr>\n",
       "    <tr>\n",
       "      <th>2</th>\n",
       "      <td>Et tu, Walt?</td>\n",
       "    </tr>\n",
       "    <tr>\n",
       "      <th>3</th>\n",
       "      <td>Stormy weather in Shortville ...</td>\n",
       "    </tr>\n",
       "    <tr>\n",
       "      <th>4</th>\n",
       "      <td>Coal is dying due to nat gas fracking. It's basically dead.</td>\n",
       "    </tr>\n",
       "    <tr>\n",
       "      <th>5</th>\n",
       "      <td>It's just a helicopter in helicopter's clothing</td>\n",
       "    </tr>\n",
       "    <tr>\n",
       "      <th>6</th>\n",
       "      <td>It won't matter</td>\n",
       "    </tr>\n",
       "    <tr>\n",
       "      <th>7</th>\n",
       "      <td>Pretty good</td>\n",
       "    </tr>\n",
       "    <tr>\n",
       "      <th>8</th>\n",
       "      <td>Why did we waste so much time developing silly rockets? Damn you, aliens! So obtuse! You have all this crazy tech, but can't speak English!?</td>\n",
       "    </tr>\n",
       "    <tr>\n",
       "      <th>9</th>\n",
       "      <td>Technology breakthrough: turns out chemtrails are actually a message from time-traveling aliens describing the secret of teleportation</td>\n",
       "    </tr>\n",
       "  </tbody>\n",
       "</table>\n",
       "</div>"
      ],
      "text/plain": [
       "  t_text                                                                                                                                       \n",
       "1                                                        Exactly. Tesla is absurdly overvalued if based on the past, but that's irr\\xe2\\x80\\xa6\n",
       "2                                                                                                                                  Et tu, Walt?\n",
       "3                                                                                                              Stormy weather in Shortville ...\n",
       "4                                                                                   Coal is dying due to nat gas fracking. It's basically dead.\n",
       "5                                                                                               It's just a helicopter in helicopter's clothing\n",
       "6                                                                                                                               It won't matter\n",
       "7                                                                                                                                   Pretty good\n",
       "8  Why did we waste so much time developing silly rockets? Damn you, aliens! So obtuse! You have all this crazy tech, but can't speak English!?\n",
       "9        Technology breakthrough: turns out chemtrails are actually a message from time-traveling aliens describing the secret of teleportation"
      ]
     },
     "execution_count": 97,
     "metadata": {},
     "output_type": "execute_result"
    }
   ],
   "source": [
    "df1"
   ]
  },
  {
   "cell_type": "code",
   "execution_count": 117,
   "id": "3ee191ee-a8a9-4b3d-90fa-d21a283631ae",
   "metadata": {},
   "outputs": [],
   "source": [
    "#df2 = df1.apply(lambda x: TweetTokenizer().tokenize(x))\n",
    "#print(df2)\n",
    "def decode_utf8(column):\n",
    "    return column.apply(lambda text: text.encode('latin1').decode('utf-8'))\n",
    "\n",
    "# Apply the decoding function to the 'text' column\n",
    "df1['decoded_text'] = decode_utf8(df1['t_text'])"
   ]
  },
  {
   "cell_type": "code",
   "execution_count": 118,
   "id": "c9d544b2-ae0f-4829-bf84-5f08535a82f9",
   "metadata": {},
   "outputs": [
    {
     "data": {
      "text/html": [
       "<div>\n",
       "<style scoped>\n",
       "    .dataframe tbody tr th:only-of-type {\n",
       "        vertical-align: middle;\n",
       "    }\n",
       "\n",
       "    .dataframe tbody tr th {\n",
       "        vertical-align: top;\n",
       "    }\n",
       "\n",
       "    .dataframe thead th {\n",
       "        text-align: right;\n",
       "    }\n",
       "</style>\n",
       "<table border=\"1\" class=\"dataframe\">\n",
       "  <thead>\n",
       "    <tr style=\"text-align: left;\">\n",
       "      <th></th>\n",
       "      <th>t_text</th>\n",
       "      <th>tokenized_text</th>\n",
       "      <th>decoded_text</th>\n",
       "    </tr>\n",
       "  </thead>\n",
       "  <tbody>\n",
       "    <tr>\n",
       "      <th>1</th>\n",
       "      <td>Exactly. Tesla is absurdly overvalued if based on the past, but that's irr\\xe2\\x80\\xa6</td>\n",
       "      <td>[Exactly, ., Tesla, is, absurdly, overvalued, if, based, on, the, past, ,, but, that's, irr, \\, xe2, \\, x80, \\, xa6]</td>\n",
       "      <td>Exactly. Tesla is absurdly overvalued if based on the past, but that's irr\\xe2\\x80\\xa6</td>\n",
       "    </tr>\n",
       "    <tr>\n",
       "      <th>2</th>\n",
       "      <td>Et tu, Walt?</td>\n",
       "      <td>[Et, tu, ,, Walt, ?]</td>\n",
       "      <td>Et tu, Walt?</td>\n",
       "    </tr>\n",
       "    <tr>\n",
       "      <th>3</th>\n",
       "      <td>Stormy weather in Shortville ...</td>\n",
       "      <td>[Stormy, weather, in, Shortville, ...]</td>\n",
       "      <td>Stormy weather in Shortville ...</td>\n",
       "    </tr>\n",
       "    <tr>\n",
       "      <th>4</th>\n",
       "      <td>Coal is dying due to nat gas fracking. It's basically dead.</td>\n",
       "      <td>[Coal, is, dying, due, to, nat, gas, fracking, ., It's, basically, dead, .]</td>\n",
       "      <td>Coal is dying due to nat gas fracking. It's basically dead.</td>\n",
       "    </tr>\n",
       "    <tr>\n",
       "      <th>5</th>\n",
       "      <td>It's just a helicopter in helicopter's clothing</td>\n",
       "      <td>[It's, just, a, helicopter, in, helicopter's, clothing]</td>\n",
       "      <td>It's just a helicopter in helicopter's clothing</td>\n",
       "    </tr>\n",
       "    <tr>\n",
       "      <th>6</th>\n",
       "      <td>It won't matter</td>\n",
       "      <td>[It, won't, matter]</td>\n",
       "      <td>It won't matter</td>\n",
       "    </tr>\n",
       "    <tr>\n",
       "      <th>7</th>\n",
       "      <td>Pretty good</td>\n",
       "      <td>[Pretty, good]</td>\n",
       "      <td>Pretty good</td>\n",
       "    </tr>\n",
       "    <tr>\n",
       "      <th>8</th>\n",
       "      <td>Why did we waste so much time developing silly rockets? Damn you, aliens! So obtuse! You have all this crazy tech, but can't speak English!?</td>\n",
       "      <td>[Why, did, we, waste, so, much, time, developing, silly, rockets, ?, Damn, you, ,, aliens, !, So, obtuse, !, You, have, all, this, crazy, tech, ,, but, can't, speak, English, !, ?]</td>\n",
       "      <td>Why did we waste so much time developing silly rockets? Damn you, aliens! So obtuse! You have all this crazy tech, but can't speak English!?</td>\n",
       "    </tr>\n",
       "    <tr>\n",
       "      <th>9</th>\n",
       "      <td>Technology breakthrough: turns out chemtrails are actually a message from time-traveling aliens describing the secret of teleportation</td>\n",
       "      <td>[Technology, breakthrough, :, turns, out, chemtrails, are, actually, a, message, from, time-traveling, aliens, describing, the, secret, of, teleportation]</td>\n",
       "      <td>Technology breakthrough: turns out chemtrails are actually a message from time-traveling aliens describing the secret of teleportation</td>\n",
       "    </tr>\n",
       "  </tbody>\n",
       "</table>\n",
       "</div>"
      ],
      "text/plain": [
       "  t_text                                                                                                                                         \\\n",
       "1                                                        Exactly. Tesla is absurdly overvalued if based on the past, but that's irr\\xe2\\x80\\xa6   \n",
       "2                                                                                                                                  Et tu, Walt?   \n",
       "3                                                                                                              Stormy weather in Shortville ...   \n",
       "4                                                                                   Coal is dying due to nat gas fracking. It's basically dead.   \n",
       "5                                                                                               It's just a helicopter in helicopter's clothing   \n",
       "6                                                                                                                               It won't matter   \n",
       "7                                                                                                                                   Pretty good   \n",
       "8  Why did we waste so much time developing silly rockets? Damn you, aliens! So obtuse! You have all this crazy tech, but can't speak English!?   \n",
       "9        Technology breakthrough: turns out chemtrails are actually a message from time-traveling aliens describing the secret of teleportation   \n",
       "\n",
       "  tokenized_text                                                                                                                                                                         \\\n",
       "1                                                                  [Exactly, ., Tesla, is, absurdly, overvalued, if, based, on, the, past, ,, but, that's, irr, \\, xe2, \\, x80, \\, xa6]   \n",
       "2                                                                                                                                                                  [Et, tu, ,, Walt, ?]   \n",
       "3                                                                                                                                                [Stormy, weather, in, Shortville, ...]   \n",
       "4                                                                                                           [Coal, is, dying, due, to, nat, gas, fracking, ., It's, basically, dead, .]   \n",
       "5                                                                                                                               [It's, just, a, helicopter, in, helicopter's, clothing]   \n",
       "6                                                                                                                                                                   [It, won't, matter]   \n",
       "7                                                                                                                                                                        [Pretty, good]   \n",
       "8  [Why, did, we, waste, so, much, time, developing, silly, rockets, ?, Damn, you, ,, aliens, !, So, obtuse, !, You, have, all, this, crazy, tech, ,, but, can't, speak, English, !, ?]   \n",
       "9                            [Technology, breakthrough, :, turns, out, chemtrails, are, actually, a, message, from, time-traveling, aliens, describing, the, secret, of, teleportation]   \n",
       "\n",
       "  decoded_text                                                                                                                                   \n",
       "1                                                        Exactly. Tesla is absurdly overvalued if based on the past, but that's irr\\xe2\\x80\\xa6  \n",
       "2                                                                                                                                  Et tu, Walt?  \n",
       "3                                                                                                              Stormy weather in Shortville ...  \n",
       "4                                                                                   Coal is dying due to nat gas fracking. It's basically dead.  \n",
       "5                                                                                               It's just a helicopter in helicopter's clothing  \n",
       "6                                                                                                                               It won't matter  \n",
       "7                                                                                                                                   Pretty good  \n",
       "8  Why did we waste so much time developing silly rockets? Damn you, aliens! So obtuse! You have all this crazy tech, but can't speak English!?  \n",
       "9        Technology breakthrough: turns out chemtrails are actually a message from time-traveling aliens describing the secret of teleportation  "
      ]
     },
     "execution_count": 118,
     "metadata": {},
     "output_type": "execute_result"
    }
   ],
   "source": [
    "df1"
   ]
  },
  {
   "cell_type": "code",
   "execution_count": 112,
   "id": "5fe1cd02-4e9b-4407-b24b-90adfed14626",
   "metadata": {},
   "outputs": [],
   "source": [
    "tokenizer = TweetTokenizer()\n",
    "df1['tokenized_text'] = df1['decoded_text'].apply(lambda text: tokenizer.tokenize(text))"
   ]
  },
  {
   "cell_type": "code",
   "execution_count": 114,
   "id": "97f198c6-9aab-4358-8fbe-d60a9dcd3cba",
   "metadata": {},
   "outputs": [
    {
     "name": "stdout",
     "output_type": "stream",
     "text": [
      "Original Text: Exactly. Tesla is absurdly overvalued if based on the past, but that's irrâ¦\n",
      "Tokenized Text: ['Exactly', '.', 'Tesla', 'is', 'absurdly', 'overvalued', 'if', 'based', 'on', 'the', 'past', ',', 'but', \"that's\", 'irr', '…']\n"
     ]
    }
   ],
   "source": [
    "from nltk.tokenize import TweetTokenizer\n",
    "\n",
    "# Original text with UTF-8 encoded characters\n",
    "original_text = \"Exactly. Tesla is absurdly overvalued if based on the past, but that's irr\\xe2\\x80\\xa6\"\n",
    "\n",
    "# Decode UTF-8 characters\n",
    "decoded_text = original_text.encode('latin1').decode('utf-8')\n",
    "\n",
    "# Tokenize using TweetTokenizer\n",
    "tokenizer = TweetTokenizer()\n",
    "tokenized_text = tokenizer.tokenize(decoded_text)\n",
    "\n",
    "# Display the original and tokenized text\n",
    "print(\"Original Text:\", original_text)\n",
    "print(\"Tokenized Text:\", tokenized_text)"
   ]
  },
  {
   "cell_type": "code",
   "execution_count": 107,
   "id": "77e4059e-34a5-44de-b165-d70feb1268c3",
   "metadata": {},
   "outputs": [
    {
     "ename": "TypeError",
     "evalue": "expected string or buffer",
     "output_type": "error",
     "traceback": [
      "\u001b[1;31m---------------------------------------------------------------------------\u001b[0m",
      "\u001b[1;31mTypeError\u001b[0m                                 Traceback (most recent call last)",
      "Cell \u001b[1;32mIn[107], line 7\u001b[0m\n\u001b[0;32m      5\u001b[0m df1[\u001b[38;5;124m'\u001b[39m\u001b[38;5;124mdecoded_text\u001b[39m\u001b[38;5;124m'\u001b[39m] \u001b[38;5;241m=\u001b[39m decode_utf8(df1[\u001b[38;5;124m'\u001b[39m\u001b[38;5;124mt_text\u001b[39m\u001b[38;5;124m'\u001b[39m])\n\u001b[0;32m      6\u001b[0m tokenizer \u001b[38;5;241m=\u001b[39m TweetTokenizer()\n\u001b[1;32m----> 7\u001b[0m df[\u001b[38;5;124m'\u001b[39m\u001b[38;5;124mtokenized_text\u001b[39m\u001b[38;5;124m'\u001b[39m] \u001b[38;5;241m=\u001b[39m \u001b[43mdf\u001b[49m\u001b[43m[\u001b[49m\u001b[38;5;124;43m'\u001b[39;49m\u001b[38;5;124;43mdecoded_text\u001b[39;49m\u001b[38;5;124;43m'\u001b[39;49m\u001b[43m]\u001b[49m\u001b[38;5;241;43m.\u001b[39;49m\u001b[43mapply\u001b[49m\u001b[43m(\u001b[49m\u001b[38;5;28;43;01mlambda\u001b[39;49;00m\u001b[43m \u001b[49m\u001b[43mtext\u001b[49m\u001b[43m:\u001b[49m\u001b[43m \u001b[49m\u001b[43mtokenizer\u001b[49m\u001b[38;5;241;43m.\u001b[39;49m\u001b[43mtokenize\u001b[49m\u001b[43m(\u001b[49m\u001b[43mtext\u001b[49m\u001b[43m)\u001b[49m\u001b[43m)\u001b[49m\n",
      "File \u001b[1;32m~\\AppData\\Local\\Programs\\Python\\Python311\\Lib\\site-packages\\pandas\\core\\series.py:4764\u001b[0m, in \u001b[0;36mSeries.apply\u001b[1;34m(self, func, convert_dtype, args, by_row, **kwargs)\u001b[0m\n\u001b[0;32m   4629\u001b[0m \u001b[38;5;28;01mdef\u001b[39;00m \u001b[38;5;21mapply\u001b[39m(\n\u001b[0;32m   4630\u001b[0m     \u001b[38;5;28mself\u001b[39m,\n\u001b[0;32m   4631\u001b[0m     func: AggFuncType,\n\u001b[1;32m   (...)\u001b[0m\n\u001b[0;32m   4636\u001b[0m     \u001b[38;5;241m*\u001b[39m\u001b[38;5;241m*\u001b[39mkwargs,\n\u001b[0;32m   4637\u001b[0m ) \u001b[38;5;241m-\u001b[39m\u001b[38;5;241m>\u001b[39m DataFrame \u001b[38;5;241m|\u001b[39m Series:\n\u001b[0;32m   4638\u001b[0m \u001b[38;5;250m    \u001b[39m\u001b[38;5;124;03m\"\"\"\u001b[39;00m\n\u001b[0;32m   4639\u001b[0m \u001b[38;5;124;03m    Invoke function on values of Series.\u001b[39;00m\n\u001b[0;32m   4640\u001b[0m \n\u001b[1;32m   (...)\u001b[0m\n\u001b[0;32m   4755\u001b[0m \u001b[38;5;124;03m    dtype: float64\u001b[39;00m\n\u001b[0;32m   4756\u001b[0m \u001b[38;5;124;03m    \"\"\"\u001b[39;00m\n\u001b[0;32m   4757\u001b[0m     \u001b[38;5;28;01mreturn\u001b[39;00m \u001b[43mSeriesApply\u001b[49m\u001b[43m(\u001b[49m\n\u001b[0;32m   4758\u001b[0m \u001b[43m        \u001b[49m\u001b[38;5;28;43mself\u001b[39;49m\u001b[43m,\u001b[49m\n\u001b[0;32m   4759\u001b[0m \u001b[43m        \u001b[49m\u001b[43mfunc\u001b[49m\u001b[43m,\u001b[49m\n\u001b[0;32m   4760\u001b[0m \u001b[43m        \u001b[49m\u001b[43mconvert_dtype\u001b[49m\u001b[38;5;241;43m=\u001b[39;49m\u001b[43mconvert_dtype\u001b[49m\u001b[43m,\u001b[49m\n\u001b[0;32m   4761\u001b[0m \u001b[43m        \u001b[49m\u001b[43mby_row\u001b[49m\u001b[38;5;241;43m=\u001b[39;49m\u001b[43mby_row\u001b[49m\u001b[43m,\u001b[49m\n\u001b[0;32m   4762\u001b[0m \u001b[43m        \u001b[49m\u001b[43margs\u001b[49m\u001b[38;5;241;43m=\u001b[39;49m\u001b[43margs\u001b[49m\u001b[43m,\u001b[49m\n\u001b[0;32m   4763\u001b[0m \u001b[43m        \u001b[49m\u001b[43mkwargs\u001b[49m\u001b[38;5;241;43m=\u001b[39;49m\u001b[43mkwargs\u001b[49m\u001b[43m,\u001b[49m\n\u001b[1;32m-> 4764\u001b[0m \u001b[43m    \u001b[49m\u001b[43m)\u001b[49m\u001b[38;5;241;43m.\u001b[39;49m\u001b[43mapply\u001b[49m\u001b[43m(\u001b[49m\u001b[43m)\u001b[49m\n",
      "File \u001b[1;32m~\\AppData\\Local\\Programs\\Python\\Python311\\Lib\\site-packages\\pandas\\core\\apply.py:1209\u001b[0m, in \u001b[0;36mSeriesApply.apply\u001b[1;34m(self)\u001b[0m\n\u001b[0;32m   1206\u001b[0m     \u001b[38;5;28;01mreturn\u001b[39;00m \u001b[38;5;28mself\u001b[39m\u001b[38;5;241m.\u001b[39mapply_compat()\n\u001b[0;32m   1208\u001b[0m \u001b[38;5;66;03m# self.func is Callable\u001b[39;00m\n\u001b[1;32m-> 1209\u001b[0m \u001b[38;5;28;01mreturn\u001b[39;00m \u001b[38;5;28;43mself\u001b[39;49m\u001b[38;5;241;43m.\u001b[39;49m\u001b[43mapply_standard\u001b[49m\u001b[43m(\u001b[49m\u001b[43m)\u001b[49m\n",
      "File \u001b[1;32m~\\AppData\\Local\\Programs\\Python\\Python311\\Lib\\site-packages\\pandas\\core\\apply.py:1289\u001b[0m, in \u001b[0;36mSeriesApply.apply_standard\u001b[1;34m(self)\u001b[0m\n\u001b[0;32m   1283\u001b[0m \u001b[38;5;66;03m# row-wise access\u001b[39;00m\n\u001b[0;32m   1284\u001b[0m \u001b[38;5;66;03m# apply doesn't have a `na_action` keyword and for backward compat reasons\u001b[39;00m\n\u001b[0;32m   1285\u001b[0m \u001b[38;5;66;03m# we need to give `na_action=\"ignore\"` for categorical data.\u001b[39;00m\n\u001b[0;32m   1286\u001b[0m \u001b[38;5;66;03m# TODO: remove the `na_action=\"ignore\"` when that default has been changed in\u001b[39;00m\n\u001b[0;32m   1287\u001b[0m \u001b[38;5;66;03m#  Categorical (GH51645).\u001b[39;00m\n\u001b[0;32m   1288\u001b[0m action \u001b[38;5;241m=\u001b[39m \u001b[38;5;124m\"\u001b[39m\u001b[38;5;124mignore\u001b[39m\u001b[38;5;124m\"\u001b[39m \u001b[38;5;28;01mif\u001b[39;00m \u001b[38;5;28misinstance\u001b[39m(obj\u001b[38;5;241m.\u001b[39mdtype, CategoricalDtype) \u001b[38;5;28;01melse\u001b[39;00m \u001b[38;5;28;01mNone\u001b[39;00m\n\u001b[1;32m-> 1289\u001b[0m mapped \u001b[38;5;241m=\u001b[39m \u001b[43mobj\u001b[49m\u001b[38;5;241;43m.\u001b[39;49m\u001b[43m_map_values\u001b[49m\u001b[43m(\u001b[49m\n\u001b[0;32m   1290\u001b[0m \u001b[43m    \u001b[49m\u001b[43mmapper\u001b[49m\u001b[38;5;241;43m=\u001b[39;49m\u001b[43mcurried\u001b[49m\u001b[43m,\u001b[49m\u001b[43m \u001b[49m\u001b[43mna_action\u001b[49m\u001b[38;5;241;43m=\u001b[39;49m\u001b[43maction\u001b[49m\u001b[43m,\u001b[49m\u001b[43m \u001b[49m\u001b[43mconvert\u001b[49m\u001b[38;5;241;43m=\u001b[39;49m\u001b[38;5;28;43mself\u001b[39;49m\u001b[38;5;241;43m.\u001b[39;49m\u001b[43mconvert_dtype\u001b[49m\n\u001b[0;32m   1291\u001b[0m \u001b[43m\u001b[49m\u001b[43m)\u001b[49m\n\u001b[0;32m   1293\u001b[0m \u001b[38;5;28;01mif\u001b[39;00m \u001b[38;5;28mlen\u001b[39m(mapped) \u001b[38;5;129;01mand\u001b[39;00m \u001b[38;5;28misinstance\u001b[39m(mapped[\u001b[38;5;241m0\u001b[39m], ABCSeries):\n\u001b[0;32m   1294\u001b[0m     \u001b[38;5;66;03m# GH#43986 Need to do list(mapped) in order to get treated as nested\u001b[39;00m\n\u001b[0;32m   1295\u001b[0m     \u001b[38;5;66;03m#  See also GH#25959 regarding EA support\u001b[39;00m\n\u001b[0;32m   1296\u001b[0m     \u001b[38;5;28;01mreturn\u001b[39;00m obj\u001b[38;5;241m.\u001b[39m_constructor_expanddim(\u001b[38;5;28mlist\u001b[39m(mapped), index\u001b[38;5;241m=\u001b[39mobj\u001b[38;5;241m.\u001b[39mindex)\n",
      "File \u001b[1;32m~\\AppData\\Local\\Programs\\Python\\Python311\\Lib\\site-packages\\pandas\\core\\base.py:921\u001b[0m, in \u001b[0;36mIndexOpsMixin._map_values\u001b[1;34m(self, mapper, na_action, convert)\u001b[0m\n\u001b[0;32m    918\u001b[0m \u001b[38;5;28;01mif\u001b[39;00m \u001b[38;5;28misinstance\u001b[39m(arr, ExtensionArray):\n\u001b[0;32m    919\u001b[0m     \u001b[38;5;28;01mreturn\u001b[39;00m arr\u001b[38;5;241m.\u001b[39mmap(mapper, na_action\u001b[38;5;241m=\u001b[39mna_action)\n\u001b[1;32m--> 921\u001b[0m \u001b[38;5;28;01mreturn\u001b[39;00m \u001b[43malgorithms\u001b[49m\u001b[38;5;241;43m.\u001b[39;49m\u001b[43mmap_array\u001b[49m\u001b[43m(\u001b[49m\u001b[43marr\u001b[49m\u001b[43m,\u001b[49m\u001b[43m \u001b[49m\u001b[43mmapper\u001b[49m\u001b[43m,\u001b[49m\u001b[43m \u001b[49m\u001b[43mna_action\u001b[49m\u001b[38;5;241;43m=\u001b[39;49m\u001b[43mna_action\u001b[49m\u001b[43m,\u001b[49m\u001b[43m \u001b[49m\u001b[43mconvert\u001b[49m\u001b[38;5;241;43m=\u001b[39;49m\u001b[43mconvert\u001b[49m\u001b[43m)\u001b[49m\n",
      "File \u001b[1;32m~\\AppData\\Local\\Programs\\Python\\Python311\\Lib\\site-packages\\pandas\\core\\algorithms.py:1814\u001b[0m, in \u001b[0;36mmap_array\u001b[1;34m(arr, mapper, na_action, convert)\u001b[0m\n\u001b[0;32m   1812\u001b[0m values \u001b[38;5;241m=\u001b[39m arr\u001b[38;5;241m.\u001b[39mastype(\u001b[38;5;28mobject\u001b[39m, copy\u001b[38;5;241m=\u001b[39m\u001b[38;5;28;01mFalse\u001b[39;00m)\n\u001b[0;32m   1813\u001b[0m \u001b[38;5;28;01mif\u001b[39;00m na_action \u001b[38;5;129;01mis\u001b[39;00m \u001b[38;5;28;01mNone\u001b[39;00m:\n\u001b[1;32m-> 1814\u001b[0m     \u001b[38;5;28;01mreturn\u001b[39;00m \u001b[43mlib\u001b[49m\u001b[38;5;241;43m.\u001b[39;49m\u001b[43mmap_infer\u001b[49m\u001b[43m(\u001b[49m\u001b[43mvalues\u001b[49m\u001b[43m,\u001b[49m\u001b[43m \u001b[49m\u001b[43mmapper\u001b[49m\u001b[43m,\u001b[49m\u001b[43m \u001b[49m\u001b[43mconvert\u001b[49m\u001b[38;5;241;43m=\u001b[39;49m\u001b[43mconvert\u001b[49m\u001b[43m)\u001b[49m\n\u001b[0;32m   1815\u001b[0m \u001b[38;5;28;01melse\u001b[39;00m:\n\u001b[0;32m   1816\u001b[0m     \u001b[38;5;28;01mreturn\u001b[39;00m lib\u001b[38;5;241m.\u001b[39mmap_infer_mask(\n\u001b[0;32m   1817\u001b[0m         values, mapper, mask\u001b[38;5;241m=\u001b[39misna(values)\u001b[38;5;241m.\u001b[39mview(np\u001b[38;5;241m.\u001b[39muint8), convert\u001b[38;5;241m=\u001b[39mconvert\n\u001b[0;32m   1818\u001b[0m     )\n",
      "File \u001b[1;32mlib.pyx:2926\u001b[0m, in \u001b[0;36mpandas._libs.lib.map_infer\u001b[1;34m()\u001b[0m\n",
      "Cell \u001b[1;32mIn[107], line 7\u001b[0m, in \u001b[0;36m<lambda>\u001b[1;34m(text)\u001b[0m\n\u001b[0;32m      5\u001b[0m df1[\u001b[38;5;124m'\u001b[39m\u001b[38;5;124mdecoded_text\u001b[39m\u001b[38;5;124m'\u001b[39m] \u001b[38;5;241m=\u001b[39m decode_utf8(df1[\u001b[38;5;124m'\u001b[39m\u001b[38;5;124mt_text\u001b[39m\u001b[38;5;124m'\u001b[39m])\n\u001b[0;32m      6\u001b[0m tokenizer \u001b[38;5;241m=\u001b[39m TweetTokenizer()\n\u001b[1;32m----> 7\u001b[0m df[\u001b[38;5;124m'\u001b[39m\u001b[38;5;124mtokenized_text\u001b[39m\u001b[38;5;124m'\u001b[39m] \u001b[38;5;241m=\u001b[39m df[\u001b[38;5;124m'\u001b[39m\u001b[38;5;124mdecoded_text\u001b[39m\u001b[38;5;124m'\u001b[39m]\u001b[38;5;241m.\u001b[39mapply(\u001b[38;5;28;01mlambda\u001b[39;00m text: \u001b[43mtokenizer\u001b[49m\u001b[38;5;241;43m.\u001b[39;49m\u001b[43mtokenize\u001b[49m\u001b[43m(\u001b[49m\u001b[43mtext\u001b[49m\u001b[43m)\u001b[49m)\n",
      "File \u001b[1;32m~\\AppData\\Local\\Programs\\Python\\Python311\\Lib\\site-packages\\nltk\\tokenize\\casual.py:369\u001b[0m, in \u001b[0;36mTweetTokenizer.tokenize\u001b[1;34m(self, text)\u001b[0m\n\u001b[0;32m    361\u001b[0m \u001b[38;5;250m\u001b[39m\u001b[38;5;124;03m\"\"\"Tokenize the input text.\u001b[39;00m\n\u001b[0;32m    362\u001b[0m \n\u001b[0;32m    363\u001b[0m \u001b[38;5;124;03m:param text: str\u001b[39;00m\n\u001b[1;32m   (...)\u001b[0m\n\u001b[0;32m    366\u001b[0m \u001b[38;5;124;03mthe original string if `preserve_case=False`.\u001b[39;00m\n\u001b[0;32m    367\u001b[0m \u001b[38;5;124;03m\"\"\"\u001b[39;00m\n\u001b[0;32m    368\u001b[0m \u001b[38;5;66;03m# Fix HTML character entities:\u001b[39;00m\n\u001b[1;32m--> 369\u001b[0m text \u001b[38;5;241m=\u001b[39m \u001b[43m_replace_html_entities\u001b[49m\u001b[43m(\u001b[49m\u001b[43mtext\u001b[49m\u001b[43m)\u001b[49m\n\u001b[0;32m    370\u001b[0m \u001b[38;5;66;03m# Remove username handles\u001b[39;00m\n\u001b[0;32m    371\u001b[0m \u001b[38;5;28;01mif\u001b[39;00m \u001b[38;5;28mself\u001b[39m\u001b[38;5;241m.\u001b[39mstrip_handles:\n",
      "File \u001b[1;32m~\\AppData\\Local\\Programs\\Python\\Python311\\Lib\\site-packages\\nltk\\tokenize\\casual.py:300\u001b[0m, in \u001b[0;36m_replace_html_entities\u001b[1;34m(text, keep, remove_illegal, encoding)\u001b[0m\n\u001b[0;32m    296\u001b[0m             \u001b[38;5;28;01mpass\u001b[39;00m\n\u001b[0;32m    298\u001b[0m     \u001b[38;5;28;01mreturn\u001b[39;00m \u001b[38;5;124m\"\u001b[39m\u001b[38;5;124m\"\u001b[39m \u001b[38;5;28;01mif\u001b[39;00m remove_illegal \u001b[38;5;28;01melse\u001b[39;00m match\u001b[38;5;241m.\u001b[39mgroup(\u001b[38;5;241m0\u001b[39m)\n\u001b[1;32m--> 300\u001b[0m \u001b[38;5;28;01mreturn\u001b[39;00m \u001b[43mENT_RE\u001b[49m\u001b[38;5;241;43m.\u001b[39;49m\u001b[43msub\u001b[49m\u001b[43m(\u001b[49m\u001b[43m_convert_entity\u001b[49m\u001b[43m,\u001b[49m\u001b[43m \u001b[49m\u001b[43m_str_to_unicode\u001b[49m\u001b[43m(\u001b[49m\u001b[43mtext\u001b[49m\u001b[43m,\u001b[49m\u001b[43m \u001b[49m\u001b[43mencoding\u001b[49m\u001b[43m)\u001b[49m\u001b[43m)\u001b[49m\n",
      "\u001b[1;31mTypeError\u001b[0m: expected string or buffer"
     ]
    }
   ],
   "source": [
    "def decode_utf8(column):\n",
    "    return column.apply(lambda text: text.encode('latin1').decode('utf-8'))\n",
    "\n",
    "# Apply the decoding function to the 'text' column\n",
    "df1['decoded_text'] = decode_utf8(df1['t_text'])\n",
    "tokenizer = TweetTokenizer()\n",
    "df['tokenized_text'] = df['decoded_text'].apply(lambda text: tokenizer.tokenize(text))\n"
   ]
  },
  {
   "cell_type": "code",
   "execution_count": 106,
   "id": "f99f28a5-25b6-48be-89be-ba85f7df91ec",
   "metadata": {},
   "outputs": [
    {
     "data": {
      "text/html": [
       "<div>\n",
       "<style scoped>\n",
       "    .dataframe tbody tr th:only-of-type {\n",
       "        vertical-align: middle;\n",
       "    }\n",
       "\n",
       "    .dataframe tbody tr th {\n",
       "        vertical-align: top;\n",
       "    }\n",
       "\n",
       "    .dataframe thead th {\n",
       "        text-align: right;\n",
       "    }\n",
       "</style>\n",
       "<table border=\"1\" class=\"dataframe\">\n",
       "  <thead>\n",
       "    <tr style=\"text-align: left;\">\n",
       "      <th></th>\n",
       "      <th>t_text</th>\n",
       "      <th>tokenized_text</th>\n",
       "      <th>decoded_text</th>\n",
       "    </tr>\n",
       "  </thead>\n",
       "  <tbody>\n",
       "    <tr>\n",
       "      <th>1</th>\n",
       "      <td>Exactly. Tesla is absurdly overvalued if based on the past, but that's irr\\xe2\\x80\\xa6</td>\n",
       "      <td>[Exactly, ., Tesla, is, absurdly, overvalued, if, based, on, the, past, ,, but, that's, irr, \\, xe2, \\, x80, \\, xa6]</td>\n",
       "      <td>Exactly. Tesla is absurdly overvalued if based on the past, but that's irr\\xe2\\x80\\xa6</td>\n",
       "    </tr>\n",
       "    <tr>\n",
       "      <th>2</th>\n",
       "      <td>Et tu, Walt?</td>\n",
       "      <td>[Et, tu, ,, Walt, ?]</td>\n",
       "      <td>Et tu, Walt?</td>\n",
       "    </tr>\n",
       "    <tr>\n",
       "      <th>3</th>\n",
       "      <td>Stormy weather in Shortville ...</td>\n",
       "      <td>[Stormy, weather, in, Shortville, ...]</td>\n",
       "      <td>Stormy weather in Shortville ...</td>\n",
       "    </tr>\n",
       "    <tr>\n",
       "      <th>4</th>\n",
       "      <td>Coal is dying due to nat gas fracking. It's basically dead.</td>\n",
       "      <td>[Coal, is, dying, due, to, nat, gas, fracking, ., It's, basically, dead, .]</td>\n",
       "      <td>Coal is dying due to nat gas fracking. It's basically dead.</td>\n",
       "    </tr>\n",
       "    <tr>\n",
       "      <th>5</th>\n",
       "      <td>It's just a helicopter in helicopter's clothing</td>\n",
       "      <td>[It's, just, a, helicopter, in, helicopter's, clothing]</td>\n",
       "      <td>It's just a helicopter in helicopter's clothing</td>\n",
       "    </tr>\n",
       "    <tr>\n",
       "      <th>6</th>\n",
       "      <td>It won't matter</td>\n",
       "      <td>[It, won't, matter]</td>\n",
       "      <td>It won't matter</td>\n",
       "    </tr>\n",
       "    <tr>\n",
       "      <th>7</th>\n",
       "      <td>Pretty good</td>\n",
       "      <td>[Pretty, good]</td>\n",
       "      <td>Pretty good</td>\n",
       "    </tr>\n",
       "    <tr>\n",
       "      <th>8</th>\n",
       "      <td>Why did we waste so much time developing silly rockets? Damn you, aliens! So obtuse! You have all this crazy tech, but can't speak English!?</td>\n",
       "      <td>[Why, did, we, waste, so, much, time, developing, silly, rockets, ?, Damn, you, ,, aliens, !, So, obtuse, !, You, have, all, this, crazy, tech, ,, but, can't, speak, English, !, ?]</td>\n",
       "      <td>Why did we waste so much time developing silly rockets? Damn you, aliens! So obtuse! You have all this crazy tech, but can't speak English!?</td>\n",
       "    </tr>\n",
       "    <tr>\n",
       "      <th>9</th>\n",
       "      <td>Technology breakthrough: turns out chemtrails are actually a message from time-traveling aliens describing the secret of teleportation</td>\n",
       "      <td>[Technology, breakthrough, :, turns, out, chemtrails, are, actually, a, message, from, time-traveling, aliens, describing, the, secret, of, teleportation]</td>\n",
       "      <td>Technology breakthrough: turns out chemtrails are actually a message from time-traveling aliens describing the secret of teleportation</td>\n",
       "    </tr>\n",
       "  </tbody>\n",
       "</table>\n",
       "</div>"
      ],
      "text/plain": [
       "  t_text                                                                                                                                         \\\n",
       "1                                                        Exactly. Tesla is absurdly overvalued if based on the past, but that's irr\\xe2\\x80\\xa6   \n",
       "2                                                                                                                                  Et tu, Walt?   \n",
       "3                                                                                                              Stormy weather in Shortville ...   \n",
       "4                                                                                   Coal is dying due to nat gas fracking. It's basically dead.   \n",
       "5                                                                                               It's just a helicopter in helicopter's clothing   \n",
       "6                                                                                                                               It won't matter   \n",
       "7                                                                                                                                   Pretty good   \n",
       "8  Why did we waste so much time developing silly rockets? Damn you, aliens! So obtuse! You have all this crazy tech, but can't speak English!?   \n",
       "9        Technology breakthrough: turns out chemtrails are actually a message from time-traveling aliens describing the secret of teleportation   \n",
       "\n",
       "  tokenized_text                                                                                                                                                                         \\\n",
       "1                                                                  [Exactly, ., Tesla, is, absurdly, overvalued, if, based, on, the, past, ,, but, that's, irr, \\, xe2, \\, x80, \\, xa6]   \n",
       "2                                                                                                                                                                  [Et, tu, ,, Walt, ?]   \n",
       "3                                                                                                                                                [Stormy, weather, in, Shortville, ...]   \n",
       "4                                                                                                           [Coal, is, dying, due, to, nat, gas, fracking, ., It's, basically, dead, .]   \n",
       "5                                                                                                                               [It's, just, a, helicopter, in, helicopter's, clothing]   \n",
       "6                                                                                                                                                                   [It, won't, matter]   \n",
       "7                                                                                                                                                                        [Pretty, good]   \n",
       "8  [Why, did, we, waste, so, much, time, developing, silly, rockets, ?, Damn, you, ,, aliens, !, So, obtuse, !, You, have, all, this, crazy, tech, ,, but, can't, speak, English, !, ?]   \n",
       "9                            [Technology, breakthrough, :, turns, out, chemtrails, are, actually, a, message, from, time-traveling, aliens, describing, the, secret, of, teleportation]   \n",
       "\n",
       "  decoded_text                                                                                                                                   \n",
       "1                                                        Exactly. Tesla is absurdly overvalued if based on the past, but that's irr\\xe2\\x80\\xa6  \n",
       "2                                                                                                                                  Et tu, Walt?  \n",
       "3                                                                                                              Stormy weather in Shortville ...  \n",
       "4                                                                                   Coal is dying due to nat gas fracking. It's basically dead.  \n",
       "5                                                                                               It's just a helicopter in helicopter's clothing  \n",
       "6                                                                                                                               It won't matter  \n",
       "7                                                                                                                                   Pretty good  \n",
       "8  Why did we waste so much time developing silly rockets? Damn you, aliens! So obtuse! You have all this crazy tech, but can't speak English!?  \n",
       "9        Technology breakthrough: turns out chemtrails are actually a message from time-traveling aliens describing the secret of teleportation  "
      ]
     },
     "execution_count": 106,
     "metadata": {},
     "output_type": "execute_result"
    }
   ],
   "source": []
  },
  {
   "cell_type": "code",
   "execution_count": 100,
   "id": "1949379f-b549-4343-9507-92af00141824",
   "metadata": {},
   "outputs": [
    {
     "name": "stdout",
     "output_type": "stream",
     "text": [
      "Original Text: Exactly. Tesla is absurdly overvalued if based on the past, but that's irrâ¦\n",
      "Tokenized Text: ['Exactly', '.', 'Tesla', 'is', 'absurdly', 'overvalued', 'if', 'based', 'on', 'the', 'past', ',', 'but', \"that's\", 'irrâ', '\\x80', '¦']\n"
     ]
    }
   ],
   "source": [
    "original_text = \"Exactly. Tesla is absurdly overvalued if based on the past, but that's irr\\xe2\\x80\\xa6\"\n",
    "\n",
    "# Tokenize using TweetTokenizer\n",
    "tokenizer = TweetTokenizer()\n",
    "tokenized_text = tokenizer.tokenize(original_text)\n",
    "\n",
    "# Display the original and tokenized text\n",
    "print(\"Original Text:\", original_text)\n",
    "print(\"Tokenized Text:\", tokenized_text)"
   ]
  },
  {
   "cell_type": "code",
   "execution_count": 73,
   "id": "cfb78d0e-d75f-41c9-850b-57c71b12dd84",
   "metadata": {},
   "outputs": [
    {
     "name": "stdout",
     "output_type": "stream",
     "text": [
      "Stop words\n",
      "\n",
      "['i', 'me', 'my', 'myself', 'we', 'our', 'ours', 'ourselves', 'you', \"you're\", \"you've\", \"you'll\", \"you'd\", 'your', 'yours', 'yourself', 'yourselves', 'he', 'him', 'his', 'himself', 'she', \"she's\", 'her', 'hers', 'herself', 'it', \"it's\", 'its', 'itself', 'they', 'them', 'their', 'theirs', 'themselves', 'what', 'which', 'who', 'whom', 'this', 'that', \"that'll\", 'these', 'those', 'am', 'is', 'are', 'was', 'were', 'be', 'been', 'being', 'have', 'has', 'had', 'having', 'do', 'does', 'did', 'doing', 'a', 'an', 'the', 'and', 'but', 'if', 'or', 'because', 'as', 'until', 'while', 'of', 'at', 'by', 'for', 'with', 'about', 'against', 'between', 'into', 'through', 'during', 'before', 'after', 'above', 'below', 'to', 'from', 'up', 'down', 'in', 'out', 'on', 'off', 'over', 'under', 'again', 'further', 'then', 'once', 'here', 'there', 'when', 'where', 'why', 'how', 'all', 'any', 'both', 'each', 'few', 'more', 'most', 'other', 'some', 'such', 'no', 'nor', 'not', 'only', 'own', 'same', 'so', 'than', 'too', 'very', 's', 't', 'can', 'will', 'just', 'don', \"don't\", 'should', \"should've\", 'now', 'd', 'll', 'm', 'o', 're', 've', 'y', 'ain', 'aren', \"aren't\", 'couldn', \"couldn't\", 'didn', \"didn't\", 'doesn', \"doesn't\", 'hadn', \"hadn't\", 'hasn', \"hasn't\", 'haven', \"haven't\", 'isn', \"isn't\", 'ma', 'mightn', \"mightn't\", 'mustn', \"mustn't\", 'needn', \"needn't\", 'shan', \"shan't\", 'shouldn', \"shouldn't\", 'wasn', \"wasn't\", 'weren', \"weren't\", 'won', \"won't\", 'wouldn', \"wouldn't\"]\n",
      "\n",
      "Punctuation\n",
      "\n",
      "!\"#$%&'()*+,-./:;<=>?@[\\]^_`{|}~\n"
     ]
    }
   ],
   "source": [
    "stopwords_english = stopwords.words('english') \n",
    "\n",
    "print('Stop words\\n')\n",
    "print(stopwords_english)\n",
    "\n",
    "print('\\nPunctuation\\n')\n",
    "print(string.punctuation)"
   ]
  },
  {
   "cell_type": "code",
   "execution_count": 79,
   "id": "8553ed81-a460-4e3e-9498-86d0f2482138",
   "metadata": {},
   "outputs": [],
   "source": [
    "df2 = pd.DataFrame({'tokenized_text': df2})"
   ]
  },
  {
   "cell_type": "code",
   "execution_count": 80,
   "id": "3b05ba24-16fa-4eaa-b99d-ce99dc3fa6ba",
   "metadata": {},
   "outputs": [
    {
     "data": {
      "text/html": [
       "<div>\n",
       "<style scoped>\n",
       "    .dataframe tbody tr th:only-of-type {\n",
       "        vertical-align: middle;\n",
       "    }\n",
       "\n",
       "    .dataframe tbody tr th {\n",
       "        vertical-align: top;\n",
       "    }\n",
       "\n",
       "    .dataframe thead th {\n",
       "        text-align: right;\n",
       "    }\n",
       "</style>\n",
       "<table border=\"1\" class=\"dataframe\">\n",
       "  <thead>\n",
       "    <tr style=\"text-align: left;\">\n",
       "      <th></th>\n",
       "      <th>tokenized_text</th>\n",
       "    </tr>\n",
       "  </thead>\n",
       "  <tbody>\n",
       "    <tr>\n",
       "      <th>1</th>\n",
       "      <td>[Exactly, ., Tesla, is, absurdly, overvalued, if, based, on, the, past, ,, but, that's, irr, \\, xe2, \\, x80, \\, xa6]</td>\n",
       "    </tr>\n",
       "    <tr>\n",
       "      <th>2</th>\n",
       "      <td>[Et, tu, ,, Walt, ?]</td>\n",
       "    </tr>\n",
       "    <tr>\n",
       "      <th>3</th>\n",
       "      <td>[Stormy, weather, in, Shortville, ...]</td>\n",
       "    </tr>\n",
       "    <tr>\n",
       "      <th>4</th>\n",
       "      <td>[Coal, is, dying, due, to, nat, gas, fracking, ., It's, basically, dead, .]</td>\n",
       "    </tr>\n",
       "    <tr>\n",
       "      <th>5</th>\n",
       "      <td>[It's, just, a, helicopter, in, helicopter's, clothing]</td>\n",
       "    </tr>\n",
       "    <tr>\n",
       "      <th>6</th>\n",
       "      <td>[It, won't, matter]</td>\n",
       "    </tr>\n",
       "    <tr>\n",
       "      <th>7</th>\n",
       "      <td>[Pretty, good]</td>\n",
       "    </tr>\n",
       "    <tr>\n",
       "      <th>8</th>\n",
       "      <td>[Why, did, we, waste, so, much, time, developing, silly, rockets, ?, Damn, you, ,, aliens, !, So, obtuse, !, You, have, all, this, crazy, tech, ,, but, can't, speak, English, !, ?]</td>\n",
       "    </tr>\n",
       "    <tr>\n",
       "      <th>9</th>\n",
       "      <td>[Technology, breakthrough, :, turns, out, chemtrails, are, actually, a, message, from, time-traveling, aliens, describing, the, secret, of, teleportation]</td>\n",
       "    </tr>\n",
       "  </tbody>\n",
       "</table>\n",
       "</div>"
      ],
      "text/plain": [
       "  tokenized_text                                                                                                                                                                       \n",
       "1                                                                  [Exactly, ., Tesla, is, absurdly, overvalued, if, based, on, the, past, ,, but, that's, irr, \\, xe2, \\, x80, \\, xa6]\n",
       "2                                                                                                                                                                  [Et, tu, ,, Walt, ?]\n",
       "3                                                                                                                                                [Stormy, weather, in, Shortville, ...]\n",
       "4                                                                                                           [Coal, is, dying, due, to, nat, gas, fracking, ., It's, basically, dead, .]\n",
       "5                                                                                                                               [It's, just, a, helicopter, in, helicopter's, clothing]\n",
       "6                                                                                                                                                                   [It, won't, matter]\n",
       "7                                                                                                                                                                        [Pretty, good]\n",
       "8  [Why, did, we, waste, so, much, time, developing, silly, rockets, ?, Damn, you, ,, aliens, !, So, obtuse, !, You, have, all, this, crazy, tech, ,, but, can't, speak, English, !, ?]\n",
       "9                            [Technology, breakthrough, :, turns, out, chemtrails, are, actually, a, message, from, time-traveling, aliens, describing, the, secret, of, teleportation]"
      ]
     },
     "execution_count": 80,
     "metadata": {},
     "output_type": "execute_result"
    }
   ],
   "source": [
    "df2"
   ]
  },
  {
   "cell_type": "code",
   "execution_count": 87,
   "id": "2e0eec83-c4d8-4c91-ac89-936f97fd1fe1",
   "metadata": {},
   "outputs": [
    {
     "name": "stdout",
     "output_type": "stream",
     "text": [
      "removed stop words and punctuation:\n",
      "['Exactly', 'Tesla', 'absurdly', 'overvalued', 'based', 'past', \"that's\", 'irr', 'xe2', 'x80', 'xa6', 'Et', 'tu', 'Walt', 'Stormy', 'weather', 'Shortville', '...', 'Coal', 'dying', 'due', 'nat', 'gas', 'fracking', \"It's\", 'basically', 'dead', \"It's\", 'helicopter', \"helicopter's\", 'clothing', 'It', 'matter', 'Pretty', 'good', 'Why', 'waste', 'much', 'time', 'developing', 'silly', 'rockets', 'Damn', 'aliens', 'So', 'obtuse', 'You', 'crazy', 'tech', \"can't\", 'speak', 'English', 'Technology', 'breakthrough', 'turns', 'chemtrails', 'actually', 'message', 'time-traveling', 'aliens', 'describing', 'secret', 'teleportation']\n"
     ]
    }
   ],
   "source": [
    "tweets_clean = []\n",
    "for token in df2['tokenized_text']:\n",
    "    for word in token:# Go through every word in your tokens list\n",
    "        if (word not in stopwords_english and word not in string.punctuation):  # remove stopwords remove punctuation\n",
    "            tweets_clean.append(word)\n",
    "\n",
    "print('removed stop words and punctuation:')\n",
    "print(tweets_clean)"
   ]
  }
 ],
 "metadata": {
  "kernelspec": {
   "display_name": "Python 3 (ipykernel)",
   "language": "python",
   "name": "python3"
  },
  "language_info": {
   "codemirror_mode": {
    "name": "ipython",
    "version": 3
   },
   "file_extension": ".py",
   "mimetype": "text/x-python",
   "name": "python",
   "nbconvert_exporter": "python",
   "pygments_lexer": "ipython3",
   "version": "3.11.6"
  }
 },
 "nbformat": 4,
 "nbformat_minor": 5
}
